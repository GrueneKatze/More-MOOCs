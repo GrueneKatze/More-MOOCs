{
  "nbformat": 4,
  "nbformat_minor": 0,
  "metadata": {
    "colab": {
      "name": "What-If Tool with XGBoost Cloud AI Platform Model - end-to-end",
      "provenance": [],
      "collapsed_sections": []
    },
    "environment": {
      "name": "tf2-gpu.2-3.m75",
      "type": "gcloud",
      "uri": "gcr.io/deeplearning-platform-release/tf2-gpu.2-3:m75"
    },
    "kernelspec": {
      "display_name": "Python 3",
      "language": "python",
      "name": "python3"
    },
    "language_info": {
      "codemirror_mode": {
        "name": "ipython",
        "version": 3
      },
      "file_extension": ".py",
      "mimetype": "text/x-python",
      "name": "python",
      "nbconvert_exporter": "python",
      "pygments_lexer": "ipython3",
      "version": "3.7.10"
    }
  },
  "cells": [
    {
      "cell_type": "markdown",
      "metadata": {
        "id": "TWrdW148R9kP"
      },
      "source": [
        "# Cloud AI Platform + What-if Tool: end-to-end XGBoost example\n",
        "\n",
        "This notebook shows how to: \n",
        "* Build a binary classification model with XGBoost trained on a [mortgage dataset](https://www.ffiec.gov/hmda/hmdaflat.htm)\n",
        "* Deploy the model to [Cloud AI Platform](https://cloud.google.com/ai-platform/)\n",
        "* Use the [What-if Tool](https://pair-code.github.io/what-if-tool/) on your deployed model\n"
      ]
    },
    {
      "cell_type": "code",
      "metadata": {
        "colab": {
          "base_uri": "https://localhost:8080/"
        },
        "id": "hSFHu19Rtvbt",
        "outputId": "805d14e5-73f8-4067-e864-046823d770c8"
      },
      "source": [
        "#You'll need to install XGBoost on the TF instance\n",
        "!pip3 install xgboost witwidget --user --quiet\n",
        "#!pip3 install xgboost==0.90 witwidget --user --quiet"
      ],
      "execution_count": 1,
      "outputs": [
        {
          "output_type": "stream",
          "name": "stdout",
          "text": [
            "\u001b[?25l\r\u001b[K     |▏                               | 10 kB 15.2 MB/s eta 0:00:01\r\u001b[K     |▍                               | 20 kB 16.9 MB/s eta 0:00:01\r\u001b[K     |▋                               | 30 kB 19.5 MB/s eta 0:00:01\r\u001b[K     |▉                               | 40 kB 21.1 MB/s eta 0:00:01\r\u001b[K     |█                               | 51 kB 22.9 MB/s eta 0:00:01\r\u001b[K     |█▎                              | 61 kB 25.1 MB/s eta 0:00:01\r\u001b[K     |█▌                              | 71 kB 27.0 MB/s eta 0:00:01\r\u001b[K     |█▊                              | 81 kB 26.7 MB/s eta 0:00:01\r\u001b[K     |██                              | 92 kB 28.5 MB/s eta 0:00:01\r\u001b[K     |██▏                             | 102 kB 29.7 MB/s eta 0:00:01\r\u001b[K     |██▎                             | 112 kB 29.7 MB/s eta 0:00:01\r\u001b[K     |██▌                             | 122 kB 29.7 MB/s eta 0:00:01\r\u001b[K     |██▊                             | 133 kB 29.7 MB/s eta 0:00:01\r\u001b[K     |███                             | 143 kB 29.7 MB/s eta 0:00:01\r\u001b[K     |███▏                            | 153 kB 29.7 MB/s eta 0:00:01\r\u001b[K     |███▍                            | 163 kB 29.7 MB/s eta 0:00:01\r\u001b[K     |███▋                            | 174 kB 29.7 MB/s eta 0:00:01\r\u001b[K     |███▉                            | 184 kB 29.7 MB/s eta 0:00:01\r\u001b[K     |████                            | 194 kB 29.7 MB/s eta 0:00:01\r\u001b[K     |████▎                           | 204 kB 29.7 MB/s eta 0:00:01\r\u001b[K     |████▌                           | 215 kB 29.7 MB/s eta 0:00:01\r\u001b[K     |████▋                           | 225 kB 29.7 MB/s eta 0:00:01\r\u001b[K     |████▉                           | 235 kB 29.7 MB/s eta 0:00:01\r\u001b[K     |█████                           | 245 kB 29.7 MB/s eta 0:00:01\r\u001b[K     |█████▎                          | 256 kB 29.7 MB/s eta 0:00:01\r\u001b[K     |█████▌                          | 266 kB 29.7 MB/s eta 0:00:01\r\u001b[K     |█████▊                          | 276 kB 29.7 MB/s eta 0:00:01\r\u001b[K     |██████                          | 286 kB 29.7 MB/s eta 0:00:01\r\u001b[K     |██████▏                         | 296 kB 29.7 MB/s eta 0:00:01\r\u001b[K     |██████▍                         | 307 kB 29.7 MB/s eta 0:00:01\r\u001b[K     |██████▋                         | 317 kB 29.7 MB/s eta 0:00:01\r\u001b[K     |██████▊                         | 327 kB 29.7 MB/s eta 0:00:01\r\u001b[K     |███████                         | 337 kB 29.7 MB/s eta 0:00:01\r\u001b[K     |███████▏                        | 348 kB 29.7 MB/s eta 0:00:01\r\u001b[K     |███████▍                        | 358 kB 29.7 MB/s eta 0:00:01\r\u001b[K     |███████▋                        | 368 kB 29.7 MB/s eta 0:00:01\r\u001b[K     |███████▉                        | 378 kB 29.7 MB/s eta 0:00:01\r\u001b[K     |████████                        | 389 kB 29.7 MB/s eta 0:00:01\r\u001b[K     |████████▎                       | 399 kB 29.7 MB/s eta 0:00:01\r\u001b[K     |████████▌                       | 409 kB 29.7 MB/s eta 0:00:01\r\u001b[K     |████████▊                       | 419 kB 29.7 MB/s eta 0:00:01\r\u001b[K     |█████████                       | 430 kB 29.7 MB/s eta 0:00:01\r\u001b[K     |█████████                       | 440 kB 29.7 MB/s eta 0:00:01\r\u001b[K     |█████████▎                      | 450 kB 29.7 MB/s eta 0:00:01\r\u001b[K     |█████████▌                      | 460 kB 29.7 MB/s eta 0:00:01\r\u001b[K     |█████████▊                      | 471 kB 29.7 MB/s eta 0:00:01\r\u001b[K     |██████████                      | 481 kB 29.7 MB/s eta 0:00:01\r\u001b[K     |██████████▏                     | 491 kB 29.7 MB/s eta 0:00:01\r\u001b[K     |██████████▍                     | 501 kB 29.7 MB/s eta 0:00:01\r\u001b[K     |██████████▋                     | 512 kB 29.7 MB/s eta 0:00:01\r\u001b[K     |██████████▉                     | 522 kB 29.7 MB/s eta 0:00:01\r\u001b[K     |███████████                     | 532 kB 29.7 MB/s eta 0:00:01\r\u001b[K     |███████████▏                    | 542 kB 29.7 MB/s eta 0:00:01\r\u001b[K     |███████████▍                    | 552 kB 29.7 MB/s eta 0:00:01\r\u001b[K     |███████████▋                    | 563 kB 29.7 MB/s eta 0:00:01\r\u001b[K     |███████████▉                    | 573 kB 29.7 MB/s eta 0:00:01\r\u001b[K     |████████████                    | 583 kB 29.7 MB/s eta 0:00:01\r\u001b[K     |████████████▎                   | 593 kB 29.7 MB/s eta 0:00:01\r\u001b[K     |████████████▌                   | 604 kB 29.7 MB/s eta 0:00:01\r\u001b[K     |████████████▊                   | 614 kB 29.7 MB/s eta 0:00:01\r\u001b[K     |█████████████                   | 624 kB 29.7 MB/s eta 0:00:01\r\u001b[K     |█████████████▏                  | 634 kB 29.7 MB/s eta 0:00:01\r\u001b[K     |█████████████▍                  | 645 kB 29.7 MB/s eta 0:00:01\r\u001b[K     |█████████████▌                  | 655 kB 29.7 MB/s eta 0:00:01\r\u001b[K     |█████████████▊                  | 665 kB 29.7 MB/s eta 0:00:01\r\u001b[K     |██████████████                  | 675 kB 29.7 MB/s eta 0:00:01\r\u001b[K     |██████████████▏                 | 686 kB 29.7 MB/s eta 0:00:01\r\u001b[K     |██████████████▍                 | 696 kB 29.7 MB/s eta 0:00:01\r\u001b[K     |██████████████▋                 | 706 kB 29.7 MB/s eta 0:00:01\r\u001b[K     |██████████████▉                 | 716 kB 29.7 MB/s eta 0:00:01\r\u001b[K     |███████████████                 | 727 kB 29.7 MB/s eta 0:00:01\r\u001b[K     |███████████████▎                | 737 kB 29.7 MB/s eta 0:00:01\r\u001b[K     |███████████████▌                | 747 kB 29.7 MB/s eta 0:00:01\r\u001b[K     |███████████████▊                | 757 kB 29.7 MB/s eta 0:00:01\r\u001b[K     |███████████████▉                | 768 kB 29.7 MB/s eta 0:00:01\r\u001b[K     |████████████████                | 778 kB 29.7 MB/s eta 0:00:01\r\u001b[K     |████████████████▎               | 788 kB 29.7 MB/s eta 0:00:01\r\u001b[K     |████████████████▌               | 798 kB 29.7 MB/s eta 0:00:01\r\u001b[K     |████████████████▊               | 808 kB 29.7 MB/s eta 0:00:01\r\u001b[K     |█████████████████               | 819 kB 29.7 MB/s eta 0:00:01\r\u001b[K     |█████████████████▏              | 829 kB 29.7 MB/s eta 0:00:01\r\u001b[K     |█████████████████▍              | 839 kB 29.7 MB/s eta 0:00:01\r\u001b[K     |█████████████████▋              | 849 kB 29.7 MB/s eta 0:00:01\r\u001b[K     |█████████████████▉              | 860 kB 29.7 MB/s eta 0:00:01\r\u001b[K     |██████████████████              | 870 kB 29.7 MB/s eta 0:00:01\r\u001b[K     |██████████████████▏             | 880 kB 29.7 MB/s eta 0:00:01\r\u001b[K     |██████████████████▍             | 890 kB 29.7 MB/s eta 0:00:01\r\u001b[K     |██████████████████▋             | 901 kB 29.7 MB/s eta 0:00:01\r\u001b[K     |██████████████████▉             | 911 kB 29.7 MB/s eta 0:00:01\r\u001b[K     |███████████████████             | 921 kB 29.7 MB/s eta 0:00:01\r\u001b[K     |███████████████████▎            | 931 kB 29.7 MB/s eta 0:00:01\r\u001b[K     |███████████████████▌            | 942 kB 29.7 MB/s eta 0:00:01\r\u001b[K     |███████████████████▊            | 952 kB 29.7 MB/s eta 0:00:01\r\u001b[K     |████████████████████            | 962 kB 29.7 MB/s eta 0:00:01\r\u001b[K     |████████████████████▏           | 972 kB 29.7 MB/s eta 0:00:01\r\u001b[K     |████████████████████▎           | 983 kB 29.7 MB/s eta 0:00:01\r\u001b[K     |████████████████████▌           | 993 kB 29.7 MB/s eta 0:00:01\r\u001b[K     |████████████████████▊           | 1.0 MB 29.7 MB/s eta 0:00:01\r\u001b[K     |█████████████████████           | 1.0 MB 29.7 MB/s eta 0:00:01\r\u001b[K     |█████████████████████▏          | 1.0 MB 29.7 MB/s eta 0:00:01\r\u001b[K     |█████████████████████▍          | 1.0 MB 29.7 MB/s eta 0:00:01\r\u001b[K     |█████████████████████▋          | 1.0 MB 29.7 MB/s eta 0:00:01\r\u001b[K     |█████████████████████▉          | 1.1 MB 29.7 MB/s eta 0:00:01\r\u001b[K     |██████████████████████          | 1.1 MB 29.7 MB/s eta 0:00:01\r\u001b[K     |██████████████████████▎         | 1.1 MB 29.7 MB/s eta 0:00:01\r\u001b[K     |██████████████████████▍         | 1.1 MB 29.7 MB/s eta 0:00:01\r\u001b[K     |██████████████████████▋         | 1.1 MB 29.7 MB/s eta 0:00:01\r\u001b[K     |██████████████████████▉         | 1.1 MB 29.7 MB/s eta 0:00:01\r\u001b[K     |███████████████████████         | 1.1 MB 29.7 MB/s eta 0:00:01\r\u001b[K     |███████████████████████▎        | 1.1 MB 29.7 MB/s eta 0:00:01\r\u001b[K     |███████████████████████▌        | 1.1 MB 29.7 MB/s eta 0:00:01\r\u001b[K     |███████████████████████▊        | 1.1 MB 29.7 MB/s eta 0:00:01\r\u001b[K     |████████████████████████        | 1.2 MB 29.7 MB/s eta 0:00:01\r\u001b[K     |████████████████████████▏       | 1.2 MB 29.7 MB/s eta 0:00:01\r\u001b[K     |████████████████████████▍       | 1.2 MB 29.7 MB/s eta 0:00:01\r\u001b[K     |████████████████████████▋       | 1.2 MB 29.7 MB/s eta 0:00:01\r\u001b[K     |████████████████████████▊       | 1.2 MB 29.7 MB/s eta 0:00:01\r\u001b[K     |█████████████████████████       | 1.2 MB 29.7 MB/s eta 0:00:01\r\u001b[K     |█████████████████████████▏      | 1.2 MB 29.7 MB/s eta 0:00:01\r\u001b[K     |█████████████████████████▍      | 1.2 MB 29.7 MB/s eta 0:00:01\r\u001b[K     |█████████████████████████▋      | 1.2 MB 29.7 MB/s eta 0:00:01\r\u001b[K     |█████████████████████████▉      | 1.2 MB 29.7 MB/s eta 0:00:01\r\u001b[K     |██████████████████████████      | 1.3 MB 29.7 MB/s eta 0:00:01\r\u001b[K     |██████████████████████████▎     | 1.3 MB 29.7 MB/s eta 0:00:01\r\u001b[K     |██████████████████████████▌     | 1.3 MB 29.7 MB/s eta 0:00:01\r\u001b[K     |██████████████████████████▊     | 1.3 MB 29.7 MB/s eta 0:00:01\r\u001b[K     |███████████████████████████     | 1.3 MB 29.7 MB/s eta 0:00:01\r\u001b[K     |███████████████████████████     | 1.3 MB 29.7 MB/s eta 0:00:01\r\u001b[K     |███████████████████████████▎    | 1.3 MB 29.7 MB/s eta 0:00:01\r\u001b[K     |███████████████████████████▌    | 1.3 MB 29.7 MB/s eta 0:00:01\r\u001b[K     |███████████████████████████▊    | 1.3 MB 29.7 MB/s eta 0:00:01\r\u001b[K     |████████████████████████████    | 1.4 MB 29.7 MB/s eta 0:00:01\r\u001b[K     |████████████████████████████▏   | 1.4 MB 29.7 MB/s eta 0:00:01\r\u001b[K     |████████████████████████████▍   | 1.4 MB 29.7 MB/s eta 0:00:01\r\u001b[K     |████████████████████████████▋   | 1.4 MB 29.7 MB/s eta 0:00:01\r\u001b[K     |████████████████████████████▉   | 1.4 MB 29.7 MB/s eta 0:00:01\r\u001b[K     |█████████████████████████████   | 1.4 MB 29.7 MB/s eta 0:00:01\r\u001b[K     |█████████████████████████████▏  | 1.4 MB 29.7 MB/s eta 0:00:01\r\u001b[K     |█████████████████████████████▍  | 1.4 MB 29.7 MB/s eta 0:00:01\r\u001b[K     |█████████████████████████████▋  | 1.4 MB 29.7 MB/s eta 0:00:01\r\u001b[K     |█████████████████████████████▉  | 1.4 MB 29.7 MB/s eta 0:00:01\r\u001b[K     |██████████████████████████████  | 1.5 MB 29.7 MB/s eta 0:00:01\r\u001b[K     |██████████████████████████████▎ | 1.5 MB 29.7 MB/s eta 0:00:01\r\u001b[K     |██████████████████████████████▌ | 1.5 MB 29.7 MB/s eta 0:00:01\r\u001b[K     |██████████████████████████████▊ | 1.5 MB 29.7 MB/s eta 0:00:01\r\u001b[K     |███████████████████████████████ | 1.5 MB 29.7 MB/s eta 0:00:01\r\u001b[K     |███████████████████████████████▏| 1.5 MB 29.7 MB/s eta 0:00:01\r\u001b[K     |███████████████████████████████▍| 1.5 MB 29.7 MB/s eta 0:00:01\r\u001b[K     |███████████████████████████████▌| 1.5 MB 29.7 MB/s eta 0:00:01\r\u001b[K     |███████████████████████████████▊| 1.5 MB 29.7 MB/s eta 0:00:01\r\u001b[K     |████████████████████████████████| 1.5 MB 29.7 MB/s eta 0:00:01\r\u001b[K     |████████████████████████████████| 1.5 MB 29.7 MB/s \n",
            "\u001b[?25h"
          ]
        }
      ]
    },
    {
      "cell_type": "markdown",
      "metadata": {
        "id": "RG4Uob8i9WSu"
      },
      "source": [
        "**After doing a pip install, restart your kernel by selecting kernel from the menu and clicking Restart Kernel before proceeding further**"
      ]
    },
    {
      "cell_type": "code",
      "metadata": {
        "id": "CosDxuLy7M4Q"
      },
      "source": [
        "import pandas as pd\n",
        "import xgboost as xgb\n",
        "import numpy as np\n",
        "import collections\n",
        "import witwidget\n",
        "\n",
        "from sklearn.model_selection import train_test_split\n",
        "from sklearn.metrics import accuracy_score, confusion_matrix\n",
        "from sklearn.utils import shuffle\n",
        "from witwidget.notebook.visualization import WitWidget, WitConfigBuilder"
      ],
      "execution_count": 1,
      "outputs": []
    },
    {
      "cell_type": "markdown",
      "metadata": {
        "id": "bFIxtguO1In_"
      },
      "source": [
        "## Download and pre-process data\n",
        "\n",
        "In this section we'll:\n",
        "* Download a subset of the mortgage dataset from Google Cloud Storage\n",
        "* Because XGBoost requires all columns to be numerical, we'll convert all categorical columns to dummy columns (0 or 1 values for each possible category value)\n",
        "* Note that we've already done some pre-processing on the original dataset to convert value codes to strings: for example, an agency code of `1` becomes `Office of the Comptroller of the Currency (OCC)`"
      ]
    },
    {
      "cell_type": "code",
      "metadata": {
        "id": "INJeCogl9KDe",
        "outputId": "77500e4d-bc28-40c6-e32f-5c4d2fd017d4",
        "colab": {
          "base_uri": "https://localhost:8080/"
        }
      },
      "source": [
        "# Use a small subset of the data since the original dataset is too big for Colab (2.5GB)\n",
        "# Data source: https://www.ffiec.gov/hmda/hmdaflat.htm\n",
        "!gsutil cp gs://mortgage_dataset_files/mortgage-small.csv ."
      ],
      "execution_count": 2,
      "outputs": [
        {
          "output_type": "stream",
          "name": "stdout",
          "text": [
            "Copying gs://mortgage_dataset_files/mortgage-small.csv...\n",
            "/ [1 files][330.8 MiB/330.8 MiB]                                                \n",
            "Operation completed over 1 objects/330.8 MiB.                                    \n"
          ]
        }
      ]
    },
    {
      "cell_type": "code",
      "metadata": {
        "id": "9BngZjdsO6Mr",
        "outputId": "b39aa14d-0be8-4a49-9cf3-61841be2fc25"
      },
      "source": [
        "# Use a small subset of the data since the original dataset is too big for Colab (2.5GB)\n",
        "# Data source: https://www.ffiec.gov/hmda/hmdaflat.htm\n",
        "!gsutil cp gs://mortgage_dataset_files/mortgage-small.csv ."
      ],
      "execution_count": null,
      "outputs": [
        {
          "name": "stdout",
          "output_type": "stream",
          "text": [
            "Copying gs://mortgage_dataset_files/mortgage-small.csv...\n",
            "| [1 files][330.8 MiB/330.8 MiB]                                                \n",
            "Operation completed over 1 objects/330.8 MiB.                                    \n"
          ]
        }
      ]
    },
    {
      "cell_type": "code",
      "metadata": {
        "id": "rou3YAIFhQCK"
      },
      "source": [
        "# Set column dtypes for Pandas\n",
        "COLUMN_NAMES = collections.OrderedDict({\n",
        "  'as_of_year': np.int16,\n",
        "  'agency_code': 'category',\n",
        "  'loan_type': 'category',\n",
        "  'property_type': 'category',\n",
        "  'loan_purpose': 'category',\n",
        "  'occupancy': np.int8,\n",
        "  'loan_amt_thousands': np.float64,\n",
        "  'preapproval': 'category',\n",
        "  'county_code': np.float64,\n",
        "  'applicant_income_thousands': np.float64,\n",
        "  'purchaser_type': 'category',\n",
        "  'hoepa_status': 'category',\n",
        "  'lien_status': 'category',\n",
        "  'population': np.float64,\n",
        "  'ffiec_median_fam_income': np.float64,\n",
        "  'tract_to_msa_income_pct': np.float64,\n",
        "  'num_owner_occupied_units': np.float64,\n",
        "  'num_1_to_4_family_units': np.float64,\n",
        "  'approved': np.int8\n",
        "})"
      ],
      "execution_count": 3,
      "outputs": []
    },
    {
      "cell_type": "code",
      "metadata": {
        "colab": {
          "base_uri": "https://localhost:8080/",
          "height": 573
        },
        "id": "18xiylX4_EPO",
        "outputId": "a7c4fba6-cd81-4bca-a881-42d045445fca"
      },
      "source": [
        "# Load data into Pandas\n",
        "data = pd.read_csv(\n",
        "  'mortgage-small.csv', \n",
        "  index_col=False,\n",
        "  dtype=COLUMN_NAMES\n",
        ")\n",
        "data = data.dropna()\n",
        "data = shuffle(data, random_state=2)\n",
        "data.head()"
      ],
      "execution_count": 4,
      "outputs": [
        {
          "output_type": "execute_result",
          "data": {
            "text/html": [
              "<div>\n",
              "<style scoped>\n",
              "    .dataframe tbody tr th:only-of-type {\n",
              "        vertical-align: middle;\n",
              "    }\n",
              "\n",
              "    .dataframe tbody tr th {\n",
              "        vertical-align: top;\n",
              "    }\n",
              "\n",
              "    .dataframe thead th {\n",
              "        text-align: right;\n",
              "    }\n",
              "</style>\n",
              "<table border=\"1\" class=\"dataframe\">\n",
              "  <thead>\n",
              "    <tr style=\"text-align: right;\">\n",
              "      <th></th>\n",
              "      <th>as_of_year</th>\n",
              "      <th>agency_code</th>\n",
              "      <th>loan_type</th>\n",
              "      <th>property_type</th>\n",
              "      <th>loan_purpose</th>\n",
              "      <th>occupancy</th>\n",
              "      <th>loan_amt_thousands</th>\n",
              "      <th>preapproval</th>\n",
              "      <th>county_code</th>\n",
              "      <th>applicant_income_thousands</th>\n",
              "      <th>purchaser_type</th>\n",
              "      <th>hoepa_status</th>\n",
              "      <th>lien_status</th>\n",
              "      <th>population</th>\n",
              "      <th>ffiec_median_fam_income</th>\n",
              "      <th>tract_to_msa_income_pct</th>\n",
              "      <th>num_owner_occupied_units</th>\n",
              "      <th>num_1_to_4_family_units</th>\n",
              "      <th>approved</th>\n",
              "    </tr>\n",
              "  </thead>\n",
              "  <tbody>\n",
              "    <tr>\n",
              "      <th>310650</th>\n",
              "      <td>2016</td>\n",
              "      <td>Consumer Financial Protection Bureau (CFPB)</td>\n",
              "      <td>Conventional (any loan other than FHA, VA, FSA...</td>\n",
              "      <td>One to four-family (other than manufactured ho...</td>\n",
              "      <td>Refinancing</td>\n",
              "      <td>1</td>\n",
              "      <td>110.0</td>\n",
              "      <td>Not applicable</td>\n",
              "      <td>119.0</td>\n",
              "      <td>55.0</td>\n",
              "      <td>Freddie Mac (FHLMC)</td>\n",
              "      <td>Not a HOEPA loan</td>\n",
              "      <td>Secured by a first lien</td>\n",
              "      <td>5930.0</td>\n",
              "      <td>64100.0</td>\n",
              "      <td>98.81</td>\n",
              "      <td>1305.0</td>\n",
              "      <td>1631.0</td>\n",
              "      <td>1</td>\n",
              "    </tr>\n",
              "    <tr>\n",
              "      <th>630129</th>\n",
              "      <td>2016</td>\n",
              "      <td>Department of Housing and Urban Development (HUD)</td>\n",
              "      <td>Conventional (any loan other than FHA, VA, FSA...</td>\n",
              "      <td>One to four-family (other than manufactured ho...</td>\n",
              "      <td>Home purchase</td>\n",
              "      <td>1</td>\n",
              "      <td>480.0</td>\n",
              "      <td>Not applicable</td>\n",
              "      <td>33.0</td>\n",
              "      <td>270.0</td>\n",
              "      <td>Loan was not originated or was not sold in cal...</td>\n",
              "      <td>Not a HOEPA loan</td>\n",
              "      <td>Secured by a first lien</td>\n",
              "      <td>4791.0</td>\n",
              "      <td>90300.0</td>\n",
              "      <td>144.06</td>\n",
              "      <td>1420.0</td>\n",
              "      <td>1450.0</td>\n",
              "      <td>0</td>\n",
              "    </tr>\n",
              "    <tr>\n",
              "      <th>715484</th>\n",
              "      <td>2016</td>\n",
              "      <td>Federal Deposit Insurance Corporation (FDIC)</td>\n",
              "      <td>Conventional (any loan other than FHA, VA, FSA...</td>\n",
              "      <td>One to four-family (other than manufactured ho...</td>\n",
              "      <td>Refinancing</td>\n",
              "      <td>2</td>\n",
              "      <td>240.0</td>\n",
              "      <td>Not applicable</td>\n",
              "      <td>59.0</td>\n",
              "      <td>96.0</td>\n",
              "      <td>Commercial bank, savings bank or savings assoc...</td>\n",
              "      <td>Not a HOEPA loan</td>\n",
              "      <td>Secured by a first lien</td>\n",
              "      <td>3439.0</td>\n",
              "      <td>105700.0</td>\n",
              "      <td>104.62</td>\n",
              "      <td>853.0</td>\n",
              "      <td>1076.0</td>\n",
              "      <td>1</td>\n",
              "    </tr>\n",
              "    <tr>\n",
              "      <th>887708</th>\n",
              "      <td>2016</td>\n",
              "      <td>Office of the Comptroller of the Currency (OCC)</td>\n",
              "      <td>Conventional (any loan other than FHA, VA, FSA...</td>\n",
              "      <td>One to four-family (other than manufactured ho...</td>\n",
              "      <td>Refinancing</td>\n",
              "      <td>1</td>\n",
              "      <td>76.0</td>\n",
              "      <td>Not applicable</td>\n",
              "      <td>65.0</td>\n",
              "      <td>85.0</td>\n",
              "      <td>Loan was not originated or was not sold in cal...</td>\n",
              "      <td>Not a HOEPA loan</td>\n",
              "      <td>Secured by a subordinate lien</td>\n",
              "      <td>3952.0</td>\n",
              "      <td>61300.0</td>\n",
              "      <td>90.93</td>\n",
              "      <td>1272.0</td>\n",
              "      <td>1666.0</td>\n",
              "      <td>1</td>\n",
              "    </tr>\n",
              "    <tr>\n",
              "      <th>719598</th>\n",
              "      <td>2016</td>\n",
              "      <td>National Credit Union Administration (NCUA)</td>\n",
              "      <td>Conventional (any loan other than FHA, VA, FSA...</td>\n",
              "      <td>One to four-family (other than manufactured ho...</td>\n",
              "      <td>Refinancing</td>\n",
              "      <td>1</td>\n",
              "      <td>100.0</td>\n",
              "      <td>Not applicable</td>\n",
              "      <td>127.0</td>\n",
              "      <td>70.0</td>\n",
              "      <td>Loan was not originated or was not sold in cal...</td>\n",
              "      <td>Not a HOEPA loan</td>\n",
              "      <td>Secured by a first lien</td>\n",
              "      <td>2422.0</td>\n",
              "      <td>46400.0</td>\n",
              "      <td>88.37</td>\n",
              "      <td>650.0</td>\n",
              "      <td>1006.0</td>\n",
              "      <td>1</td>\n",
              "    </tr>\n",
              "  </tbody>\n",
              "</table>\n",
              "</div>"
            ],
            "text/plain": [
              "        as_of_year  ... approved\n",
              "310650        2016  ...        1\n",
              "630129        2016  ...        0\n",
              "715484        2016  ...        1\n",
              "887708        2016  ...        1\n",
              "719598        2016  ...        1\n",
              "\n",
              "[5 rows x 19 columns]"
            ]
          },
          "metadata": {},
          "execution_count": 4
        }
      ]
    },
    {
      "cell_type": "code",
      "metadata": {
        "colab": {
          "base_uri": "https://localhost:8080/"
        },
        "id": "xkt2L4Lh_buo",
        "outputId": "12afd8c6-8a53-4fa0-c4c7-38a9afc5ff5d"
      },
      "source": [
        "# Label preprocessing\n",
        "labels = data['approved'].values\n",
        "\n",
        "# See the distribution of approved / denied classes (0: denied, 1: approved)\n",
        "print(data['approved'].value_counts())"
      ],
      "execution_count": 5,
      "outputs": [
        {
          "output_type": "stream",
          "name": "stdout",
          "text": [
            "1    665389\n",
            "0    334610\n",
            "Name: approved, dtype: int64\n"
          ]
        }
      ]
    },
    {
      "cell_type": "code",
      "metadata": {
        "id": "bER0GA7wgSHE"
      },
      "source": [
        "data = data.drop(columns=['approved'])"
      ],
      "execution_count": 6,
      "outputs": []
    },
    {
      "cell_type": "code",
      "metadata": {
        "id": "dkR8t9I2_fSm"
      },
      "source": [
        "# Convert categorical columns to dummy columns\n",
        "dummy_columns = list(data.dtypes[data.dtypes == 'category'].index)\n",
        "data = pd.get_dummies(data, columns=dummy_columns)"
      ],
      "execution_count": 7,
      "outputs": []
    },
    {
      "cell_type": "code",
      "metadata": {
        "colab": {
          "base_uri": "https://localhost:8080/",
          "height": 295
        },
        "id": "eQNpBaaiZU5r",
        "outputId": "6c64c4a8-5d89-47b0-9437-65fc8d7480cd"
      },
      "source": [
        "# Preview the data\n",
        "data.head()"
      ],
      "execution_count": 8,
      "outputs": [
        {
          "output_type": "execute_result",
          "data": {
            "text/html": [
              "<div>\n",
              "<style scoped>\n",
              "    .dataframe tbody tr th:only-of-type {\n",
              "        vertical-align: middle;\n",
              "    }\n",
              "\n",
              "    .dataframe tbody tr th {\n",
              "        vertical-align: top;\n",
              "    }\n",
              "\n",
              "    .dataframe thead th {\n",
              "        text-align: right;\n",
              "    }\n",
              "</style>\n",
              "<table border=\"1\" class=\"dataframe\">\n",
              "  <thead>\n",
              "    <tr style=\"text-align: right;\">\n",
              "      <th></th>\n",
              "      <th>as_of_year</th>\n",
              "      <th>occupancy</th>\n",
              "      <th>loan_amt_thousands</th>\n",
              "      <th>county_code</th>\n",
              "      <th>applicant_income_thousands</th>\n",
              "      <th>population</th>\n",
              "      <th>ffiec_median_fam_income</th>\n",
              "      <th>tract_to_msa_income_pct</th>\n",
              "      <th>num_owner_occupied_units</th>\n",
              "      <th>num_1_to_4_family_units</th>\n",
              "      <th>agency_code_Consumer Financial Protection Bureau (CFPB)</th>\n",
              "      <th>agency_code_Department of Housing and Urban Development (HUD)</th>\n",
              "      <th>agency_code_Federal Deposit Insurance Corporation (FDIC)</th>\n",
              "      <th>agency_code_Federal Reserve System (FRS)</th>\n",
              "      <th>agency_code_National Credit Union Administration (NCUA)</th>\n",
              "      <th>agency_code_Office of the Comptroller of the Currency (OCC)</th>\n",
              "      <th>loan_type_Conventional (any loan other than FHA, VA, FSA, or RHS loans)</th>\n",
              "      <th>loan_type_FHA-insured (Federal Housing Administration)</th>\n",
              "      <th>loan_type_FSA/RHS (Farm Service Agency or Rural Housing Service)</th>\n",
              "      <th>loan_type_VA-guaranteed (Veterans Administration)</th>\n",
              "      <th>property_type_Manufactured housing</th>\n",
              "      <th>property_type_One to four-family (other than manufactured housing)</th>\n",
              "      <th>loan_purpose_Home improvement</th>\n",
              "      <th>loan_purpose_Home purchase</th>\n",
              "      <th>loan_purpose_Refinancing</th>\n",
              "      <th>preapproval_Not applicable</th>\n",
              "      <th>preapproval_Preapproval was not requested</th>\n",
              "      <th>preapproval_Preapproval was requested</th>\n",
              "      <th>purchaser_type_Affiliate institution</th>\n",
              "      <th>purchaser_type_Commercial bank, savings bank or savings association</th>\n",
              "      <th>purchaser_type_Fannie Mae (FNMA)</th>\n",
              "      <th>purchaser_type_Farmer Mac (FAMC)</th>\n",
              "      <th>purchaser_type_Freddie Mac (FHLMC)</th>\n",
              "      <th>purchaser_type_Ginnie Mae (GNMA)</th>\n",
              "      <th>purchaser_type_Life insurance company, credit union, mortgage bank, or finance company</th>\n",
              "      <th>purchaser_type_Loan was not originated or was not sold in calendar year covered by register</th>\n",
              "      <th>purchaser_type_Other type of purchaser</th>\n",
              "      <th>purchaser_type_Private securitization</th>\n",
              "      <th>hoepa_status_HOEPA loan</th>\n",
              "      <th>hoepa_status_Not a HOEPA loan</th>\n",
              "      <th>lien_status_Not applicable (purchased loans)</th>\n",
              "      <th>lien_status_Not secured by a lien</th>\n",
              "      <th>lien_status_Secured by a first lien</th>\n",
              "      <th>lien_status_Secured by a subordinate lien</th>\n",
              "    </tr>\n",
              "  </thead>\n",
              "  <tbody>\n",
              "    <tr>\n",
              "      <th>310650</th>\n",
              "      <td>2016</td>\n",
              "      <td>1</td>\n",
              "      <td>110.0</td>\n",
              "      <td>119.0</td>\n",
              "      <td>55.0</td>\n",
              "      <td>5930.0</td>\n",
              "      <td>64100.0</td>\n",
              "      <td>98.81</td>\n",
              "      <td>1305.0</td>\n",
              "      <td>1631.0</td>\n",
              "      <td>1</td>\n",
              "      <td>0</td>\n",
              "      <td>0</td>\n",
              "      <td>0</td>\n",
              "      <td>0</td>\n",
              "      <td>0</td>\n",
              "      <td>1</td>\n",
              "      <td>0</td>\n",
              "      <td>0</td>\n",
              "      <td>0</td>\n",
              "      <td>0</td>\n",
              "      <td>1</td>\n",
              "      <td>0</td>\n",
              "      <td>0</td>\n",
              "      <td>1</td>\n",
              "      <td>1</td>\n",
              "      <td>0</td>\n",
              "      <td>0</td>\n",
              "      <td>0</td>\n",
              "      <td>0</td>\n",
              "      <td>0</td>\n",
              "      <td>0</td>\n",
              "      <td>1</td>\n",
              "      <td>0</td>\n",
              "      <td>0</td>\n",
              "      <td>0</td>\n",
              "      <td>0</td>\n",
              "      <td>0</td>\n",
              "      <td>0</td>\n",
              "      <td>1</td>\n",
              "      <td>0</td>\n",
              "      <td>0</td>\n",
              "      <td>1</td>\n",
              "      <td>0</td>\n",
              "    </tr>\n",
              "    <tr>\n",
              "      <th>630129</th>\n",
              "      <td>2016</td>\n",
              "      <td>1</td>\n",
              "      <td>480.0</td>\n",
              "      <td>33.0</td>\n",
              "      <td>270.0</td>\n",
              "      <td>4791.0</td>\n",
              "      <td>90300.0</td>\n",
              "      <td>144.06</td>\n",
              "      <td>1420.0</td>\n",
              "      <td>1450.0</td>\n",
              "      <td>0</td>\n",
              "      <td>1</td>\n",
              "      <td>0</td>\n",
              "      <td>0</td>\n",
              "      <td>0</td>\n",
              "      <td>0</td>\n",
              "      <td>1</td>\n",
              "      <td>0</td>\n",
              "      <td>0</td>\n",
              "      <td>0</td>\n",
              "      <td>0</td>\n",
              "      <td>1</td>\n",
              "      <td>0</td>\n",
              "      <td>1</td>\n",
              "      <td>0</td>\n",
              "      <td>1</td>\n",
              "      <td>0</td>\n",
              "      <td>0</td>\n",
              "      <td>0</td>\n",
              "      <td>0</td>\n",
              "      <td>0</td>\n",
              "      <td>0</td>\n",
              "      <td>0</td>\n",
              "      <td>0</td>\n",
              "      <td>0</td>\n",
              "      <td>1</td>\n",
              "      <td>0</td>\n",
              "      <td>0</td>\n",
              "      <td>0</td>\n",
              "      <td>1</td>\n",
              "      <td>0</td>\n",
              "      <td>0</td>\n",
              "      <td>1</td>\n",
              "      <td>0</td>\n",
              "    </tr>\n",
              "    <tr>\n",
              "      <th>715484</th>\n",
              "      <td>2016</td>\n",
              "      <td>2</td>\n",
              "      <td>240.0</td>\n",
              "      <td>59.0</td>\n",
              "      <td>96.0</td>\n",
              "      <td>3439.0</td>\n",
              "      <td>105700.0</td>\n",
              "      <td>104.62</td>\n",
              "      <td>853.0</td>\n",
              "      <td>1076.0</td>\n",
              "      <td>0</td>\n",
              "      <td>0</td>\n",
              "      <td>1</td>\n",
              "      <td>0</td>\n",
              "      <td>0</td>\n",
              "      <td>0</td>\n",
              "      <td>1</td>\n",
              "      <td>0</td>\n",
              "      <td>0</td>\n",
              "      <td>0</td>\n",
              "      <td>0</td>\n",
              "      <td>1</td>\n",
              "      <td>0</td>\n",
              "      <td>0</td>\n",
              "      <td>1</td>\n",
              "      <td>1</td>\n",
              "      <td>0</td>\n",
              "      <td>0</td>\n",
              "      <td>0</td>\n",
              "      <td>1</td>\n",
              "      <td>0</td>\n",
              "      <td>0</td>\n",
              "      <td>0</td>\n",
              "      <td>0</td>\n",
              "      <td>0</td>\n",
              "      <td>0</td>\n",
              "      <td>0</td>\n",
              "      <td>0</td>\n",
              "      <td>0</td>\n",
              "      <td>1</td>\n",
              "      <td>0</td>\n",
              "      <td>0</td>\n",
              "      <td>1</td>\n",
              "      <td>0</td>\n",
              "    </tr>\n",
              "    <tr>\n",
              "      <th>887708</th>\n",
              "      <td>2016</td>\n",
              "      <td>1</td>\n",
              "      <td>76.0</td>\n",
              "      <td>65.0</td>\n",
              "      <td>85.0</td>\n",
              "      <td>3952.0</td>\n",
              "      <td>61300.0</td>\n",
              "      <td>90.93</td>\n",
              "      <td>1272.0</td>\n",
              "      <td>1666.0</td>\n",
              "      <td>0</td>\n",
              "      <td>0</td>\n",
              "      <td>0</td>\n",
              "      <td>0</td>\n",
              "      <td>0</td>\n",
              "      <td>1</td>\n",
              "      <td>1</td>\n",
              "      <td>0</td>\n",
              "      <td>0</td>\n",
              "      <td>0</td>\n",
              "      <td>0</td>\n",
              "      <td>1</td>\n",
              "      <td>0</td>\n",
              "      <td>0</td>\n",
              "      <td>1</td>\n",
              "      <td>1</td>\n",
              "      <td>0</td>\n",
              "      <td>0</td>\n",
              "      <td>0</td>\n",
              "      <td>0</td>\n",
              "      <td>0</td>\n",
              "      <td>0</td>\n",
              "      <td>0</td>\n",
              "      <td>0</td>\n",
              "      <td>0</td>\n",
              "      <td>1</td>\n",
              "      <td>0</td>\n",
              "      <td>0</td>\n",
              "      <td>0</td>\n",
              "      <td>1</td>\n",
              "      <td>0</td>\n",
              "      <td>0</td>\n",
              "      <td>0</td>\n",
              "      <td>1</td>\n",
              "    </tr>\n",
              "    <tr>\n",
              "      <th>719598</th>\n",
              "      <td>2016</td>\n",
              "      <td>1</td>\n",
              "      <td>100.0</td>\n",
              "      <td>127.0</td>\n",
              "      <td>70.0</td>\n",
              "      <td>2422.0</td>\n",
              "      <td>46400.0</td>\n",
              "      <td>88.37</td>\n",
              "      <td>650.0</td>\n",
              "      <td>1006.0</td>\n",
              "      <td>0</td>\n",
              "      <td>0</td>\n",
              "      <td>0</td>\n",
              "      <td>0</td>\n",
              "      <td>1</td>\n",
              "      <td>0</td>\n",
              "      <td>1</td>\n",
              "      <td>0</td>\n",
              "      <td>0</td>\n",
              "      <td>0</td>\n",
              "      <td>0</td>\n",
              "      <td>1</td>\n",
              "      <td>0</td>\n",
              "      <td>0</td>\n",
              "      <td>1</td>\n",
              "      <td>1</td>\n",
              "      <td>0</td>\n",
              "      <td>0</td>\n",
              "      <td>0</td>\n",
              "      <td>0</td>\n",
              "      <td>0</td>\n",
              "      <td>0</td>\n",
              "      <td>0</td>\n",
              "      <td>0</td>\n",
              "      <td>0</td>\n",
              "      <td>1</td>\n",
              "      <td>0</td>\n",
              "      <td>0</td>\n",
              "      <td>0</td>\n",
              "      <td>1</td>\n",
              "      <td>0</td>\n",
              "      <td>0</td>\n",
              "      <td>1</td>\n",
              "      <td>0</td>\n",
              "    </tr>\n",
              "  </tbody>\n",
              "</table>\n",
              "</div>"
            ],
            "text/plain": [
              "        as_of_year  ...  lien_status_Secured by a subordinate lien\n",
              "310650        2016  ...                                          0\n",
              "630129        2016  ...                                          0\n",
              "715484        2016  ...                                          0\n",
              "887708        2016  ...                                          1\n",
              "719598        2016  ...                                          0\n",
              "\n",
              "[5 rows x 44 columns]"
            ]
          },
          "metadata": {},
          "execution_count": 8
        }
      ]
    },
    {
      "cell_type": "markdown",
      "metadata": {
        "id": "Mpr23PcBAnM3"
      },
      "source": [
        "## Train the XGBoost model"
      ]
    },
    {
      "cell_type": "code",
      "metadata": {
        "id": "qdA3eC9v0tbN"
      },
      "source": [
        "# Split the data into train / test sets\n",
        "x,y = data,labels\n",
        "x_train,x_test,y_train,y_test = train_test_split(x,y)"
      ],
      "execution_count": 9,
      "outputs": []
    },
    {
      "cell_type": "code",
      "metadata": {
        "colab": {
          "base_uri": "https://localhost:8080/"
        },
        "id": "GOveA7JAAmr4",
        "outputId": "c13ca09d-bf3c-4cf9-b2d2-d19a490d6ab4"
      },
      "source": [
        "# Train the model, this will take a few minutes to run\n",
        "bst = xgb.XGBClassifier(\n",
        "    objective='reg:logistic'\n",
        ")\n",
        "\n",
        "bst.fit(x_train, y_train)"
      ],
      "execution_count": 10,
      "outputs": [
        {
          "output_type": "execute_result",
          "data": {
            "text/plain": [
              "XGBClassifier(objective='reg:logistic')"
            ]
          },
          "metadata": {},
          "execution_count": 10
        }
      ]
    },
    {
      "cell_type": "code",
      "metadata": {
        "colab": {
          "base_uri": "https://localhost:8080/"
        },
        "id": "0YNhqfWpBGLK",
        "outputId": "a14dbd2f-ec8a-4d12-ea69-3e2defad7320"
      },
      "source": [
        "# Get predictions on the test set and print the accuracy score\n",
        "y_pred = bst.predict(x_test)\n",
        "acc = accuracy_score(y_test, y_pred.round())\n",
        "print(acc, '\\n')"
      ],
      "execution_count": 11,
      "outputs": [
        {
          "output_type": "stream",
          "name": "stdout",
          "text": [
            "0.869284 \n",
            "\n"
          ]
        }
      ]
    },
    {
      "cell_type": "code",
      "metadata": {
        "colab": {
          "base_uri": "https://localhost:8080/"
        },
        "id": "_UfHZJfFhcRO",
        "outputId": "6eccf7d9-0c39-4d44-e675-a26cbec48891"
      },
      "source": [
        "# Print a confusion matrix\n",
        "print('Confusion matrix:')\n",
        "cm = confusion_matrix(y_test, y_pred.round())\n",
        "cm = cm / cm.astype(np.float).sum(axis=1)\n",
        "print(cm)"
      ],
      "execution_count": 12,
      "outputs": [
        {
          "output_type": "stream",
          "name": "stdout",
          "text": [
            "Confusion matrix:\n",
            "[[0.84573364 0.07784157]\n",
            " [0.23550249 0.88116732]]\n"
          ]
        }
      ]
    },
    {
      "cell_type": "code",
      "metadata": {
        "id": "VFAZoUs2vvxf"
      },
      "source": [
        "# Save the model so we can deploy it\n",
        "bst.save_model('model.bst')"
      ],
      "execution_count": 13,
      "outputs": []
    },
    {
      "cell_type": "markdown",
      "metadata": {
        "id": "Lop--kefvU5a"
      },
      "source": [
        "## Deploy model to AI Platform\n",
        "\n",
        "Copy your saved model file to Cloud Storage and deploy the model to AI Platform. In order for this to work, you'll need the Cloud AI Platform Models API enabled. Update the values in the next cell with the info for your GCP project. Replace GCP_PROJECT with the value in the Qwiklabs lab page for GCP Project ID in the left pane, replace MODEL_BUCKET with gs:// with the value for BucketName appended, and replace MODEL_NAME with a name for your model."
      ]
    },
    {
      "cell_type": "code",
      "metadata": {
        "id": "KRUxRRH3-EIj",
        "outputId": "9f2f7080-2340-4511-8166-20edd3853c9c",
        "colab": {
          "base_uri": "https://localhost:8080/"
        }
      },
      "source": [
        "!gcloud config get-value project"
      ],
      "execution_count": 14,
      "outputs": [
        {
          "output_type": "stream",
          "name": "stdout",
          "text": [
            "(unset)\n",
            "\n",
            "\n",
            "To take a quick anonymous survey, run:\n",
            "  $ gcloud survey\n",
            "\n"
          ]
        }
      ]
    },
    {
      "cell_type": "code",
      "metadata": {
        "id": "572-JvLt9WS8",
        "outputId": "699fc50d-d1e8-4353-d5ab-1b28447f3c94"
      },
      "source": [
        "!gcloud config get-value project"
      ],
      "execution_count": null,
      "outputs": [
        {
          "name": "stdout",
          "output_type": "stream",
          "text": [
            "zlc-test-2017\n"
          ]
        }
      ]
    },
    {
      "cell_type": "code",
      "metadata": {
        "id": "m454ISwGiP7Q"
      },
      "source": [
        "GCP_PROJECT = !gcloud config get-value project\n",
        "GCP_PROJECT = GCP_PROJECT[0]\n",
        "MODEL_BUCKET = 'gs://zlc-model-bucket'\n",
        "MODEL_NAME = 'xgboost_model' # You'll create this model below\n",
        "VERSION_NAME = 'v1'"
      ],
      "execution_count": null,
      "outputs": []
    },
    {
      "cell_type": "code",
      "metadata": {
        "id": "bJ96zEVj9WS9",
        "outputId": "33f30ba5-c700-4660-c8af-8b58619434fa"
      },
      "source": [
        "GCP_PROJECT"
      ],
      "execution_count": null,
      "outputs": [
        {
          "data": {
            "text/plain": [
              "'zlc-test-2017'"
            ]
          },
          "execution_count": 17,
          "metadata": {},
          "output_type": "execute_result"
        }
      ]
    },
    {
      "cell_type": "code",
      "metadata": {
        "id": "f9VlzVTEvtiq",
        "outputId": "d7275cf6-d01d-448a-a53f-aac46c26dde5"
      },
      "source": [
        "# Copy your model file to Cloud Storage\n",
        "!gsutil cp ./model.bst $MODEL_BUCKET"
      ],
      "execution_count": null,
      "outputs": [
        {
          "name": "stdout",
          "output_type": "stream",
          "text": [
            "Copying file://./model.bst [Content-Type=application/octet-stream]...\n",
            "/ [1 files][ 49.4 KiB/ 49.4 KiB]                                                \n",
            "Operation completed over 1 objects/49.4 KiB.                                     \n"
          ]
        }
      ]
    },
    {
      "cell_type": "code",
      "metadata": {
        "id": "r-PWJvHf9WS-",
        "outputId": "64475542-dc98-4ae8-bfab-7cc3cd30dba2"
      },
      "source": [
        "# Configure gcloud to use your project\n",
        "!gcloud config set project $GCP_PROJECT"
      ],
      "execution_count": null,
      "outputs": [
        {
          "name": "stdout",
          "output_type": "stream",
          "text": [
            "Updated property [core/project].\n",
            "\u001b[1;33mWARNING:\u001b[0m You do not appear to have access to project [zlc-test-2017] or it does not exist.\n"
          ]
        }
      ]
    },
    {
      "cell_type": "code",
      "metadata": {
        "id": "ew-GyuFHine9",
        "outputId": "9d08ac8a-da71-42da-80c8-82f4adb53280"
      },
      "source": [
        "# Create a model\n",
        "!gcloud ai-platform models create $MODEL_NAME --regions us-central1 --quiet"
      ],
      "execution_count": null,
      "outputs": [
        {
          "name": "stdout",
          "output_type": "stream",
          "text": [
            "Using endpoint [https://ml.googleapis.com/]\n",
            "Created ai platform model [projects/zlc-test-2017/models/xgboost_model].\n"
          ]
        }
      ]
    },
    {
      "cell_type": "code",
      "metadata": {
        "id": "h14oBXAtvUYE",
        "outputId": "dc25b0a3-d53b-4d6f-ccdd-d439006eac49"
      },
      "source": [
        "# Create a version, this will take ~2 minutes to deploy\n",
        "!gcloud ai-platform versions create $VERSION_NAME \\\n",
        "--model=$MODEL_NAME \\\n",
        "--framework='XGBOOST' \\\n",
        "--runtime-version=1.15 \\\n",
        "--origin=$MODEL_BUCKET \\\n",
        "--staging-bucket=$MODEL_BUCKET \\\n",
        "--python-version=3.7 \\\n",
        "--project=$GCP_PROJECT \\\n",
        "--region=global"
      ],
      "execution_count": null,
      "outputs": [
        {
          "name": "stdout",
          "output_type": "stream",
          "text": [
            "Using endpoint [https://ml.googleapis.com/]\n",
            "Creating version (this might take a few minutes)......done.                    \n"
          ]
        }
      ]
    },
    {
      "cell_type": "markdown",
      "metadata": {
        "id": "-8xNn8EhgUi7"
      },
      "source": [
        "## Using the What-if Tool to interpret your model\n",
        "Once your model has deployed, you're ready to connect it to the What-if Tool using the `WitWidget`.\n",
        "**Note**: You can ignore the message `TypeError(unsupported operand type(s) for -: 'int' and 'list')` while creating a What-if Tool visualization."
      ]
    },
    {
      "cell_type": "code",
      "metadata": {
        "id": "QzDqyqgzvV0E"
      },
      "source": [
        "# Format a subset of the test data to send to the What-if Tool for visualization\n",
        "# Append ground truth label value to training data\n",
        "\n",
        "# This is the number of examples you want to display in the What-if Tool\n",
        "num_wit_examples = 500\n",
        "test_examples = np.hstack((x_test[:num_wit_examples].values,y_test[:num_wit_examples].reshape(-1,1)))"
      ],
      "execution_count": null,
      "outputs": []
    },
    {
      "cell_type": "code",
      "metadata": {
        "colab": {
          "referenced_widgets": [
            "7a1eff4837314b60b4252a96abcf9391"
          ]
        },
        "id": "dqAbAmxkgW4p",
        "outputId": "8da58116-f0ff-443f-e1d3-d36fba7f3539"
      },
      "source": [
        "# Create a What-if Tool visualization, it may take a minute to load\n",
        "# See the cell below this for exploration ideas\n",
        "\n",
        "# This prediction adjustment function is needed as this xgboost model's\n",
        "# prediction returns just a score for the positive class of the binary\n",
        "# classification, whereas the What-If Tool expects a list of scores for each\n",
        "# class (in this case, both the negative class and the positive class).\n",
        "def adjust_prediction(pred):\n",
        "  return [1 - pred, pred]\n",
        "\n",
        "config_builder = (WitConfigBuilder(test_examples.tolist(), data.columns.tolist() + ['mortgage_status'])\n",
        "  .set_ai_platform_model(GCP_PROJECT, MODEL_NAME, VERSION_NAME, adjust_prediction=adjust_prediction)\n",
        "  .set_target_feature('mortgage_status')\n",
        "  .set_label_vocab(['denied', 'approved']))\n",
        "WitWidget(config_builder, height=800)"
      ],
      "execution_count": null,
      "outputs": [
        {
          "data": {
            "text/html": [
              "<style>.container { width:100% !important; }</style>"
            ],
            "text/plain": [
              "<IPython.core.display.HTML object>"
            ]
          },
          "metadata": {},
          "output_type": "display_data"
        },
        {
          "data": {
            "application/vnd.jupyter.widget-view+json": {
              "model_id": "7a1eff4837314b60b4252a96abcf9391",
              "version_major": 2,
              "version_minor": 0
            },
            "text/plain": [
              "WitWidget(config={'model_type': 'classification', 'label_vocab': ['denied', 'approved'], 'feature_names': ['as…"
            ]
          },
          "metadata": {},
          "output_type": "display_data"
        }
      ]
    },
    {
      "cell_type": "markdown",
      "metadata": {
        "id": "_B2BskDk55rk"
      },
      "source": [
        "## What-if Tool exploration ideas\n",
        "\n",
        "* **Individual data points**: the default graph shows all data points from the test set, colored by their ground truth label (approved or denied)\n",
        "  * Try selecting data points close to the middle and tweaking some of their feature values. Then run inference again to see if the model prediction changes\n",
        "  * Select a data point and then select the \"Show nearest counterfactual datapoint\" radio button. This will highlight a data point with feature values closest to your original one, but with the opposite prediction\n",
        "  \n",
        "* **Binning data**: create separate graphs for individual features\n",
        "  * From the \"Binning - X axis\" dropdown, try selecting one of the agency codes, for example \"Department of Housing and Urban Development (HUD)\". This will create 2 separate graphs, one for loan applications from the HUD (graph labeled 1), and one for all other agencies (graph labeled 0). This shows us that loans from this agency are more likely to be denied\n",
        "  \n",
        "* **Exploring overall performance**: Click on the \"Performance & Fairness\" tab to view overall performance statistics on the model's results on the provided dataset, including confusion matrices, PR curves, and ROC curves.\n",
        "   * Experiment with the threshold slider, raising and lowering the positive classification score the model needs to return before it decides to predict \"approved\" for the loan, and see how it changes accuracy, false positives, and false negatives.\n",
        "   * On the left side \"Slice by\" menu, select \"loan_purpose_Home purchase\". You'll now see performance on the two subsets of your data: the \"0\" slice shows when the loan is not for a home purchase, and the \"1\" slice is for when the loan is for a home purchase. Check out the accuracy, false postive, and false negative rate between the two slices to look for differences in performance. If you expand the rows to look at the confusion matrices, you can see that the model predicts \"approved\" more often for home purchase loans.\n",
        "   * You can use the optimization buttons on the left side to have the tool auto-select different positive classification thresholds for each slice in order to achieve different goals. If you select the \"Demographic parity\" button, then the two thresholds will be adjusted so that the model predicts \"approved\" for a similar percentage of applicants in both slices. What does this do to the accuracy, false positives and false negatives for each slice?\n"
      ]
    },
    {
      "cell_type": "markdown",
      "metadata": {
        "id": "Kx9FvO2m9WTA"
      },
      "source": [
        "## Delete the model from AI Platform"
      ]
    },
    {
      "cell_type": "code",
      "metadata": {
        "id": "Rkrv29yK9WTB",
        "outputId": "0380bd61-eca5-4ebe-b96b-5c4843f09331"
      },
      "source": [
        "!gcloud ai-platform versions delete $VERSION_NAME --model=$MODEL_NAME --region=global --quiet"
      ],
      "execution_count": null,
      "outputs": [
        {
          "name": "stdout",
          "output_type": "stream",
          "text": [
            "Using endpoint [https://ml.googleapis.com/]\n",
            "Deleting version [v1]......done.                                               \n"
          ]
        }
      ]
    },
    {
      "cell_type": "code",
      "metadata": {
        "id": "IwD9hln69WTB",
        "outputId": "9aa87953-5c70-4833-f26b-c5aa334678bc"
      },
      "source": [
        "!gcloud ai-platform models delete $MODEL_NAME --region=global --quiet"
      ],
      "execution_count": null,
      "outputs": [
        {
          "name": "stdout",
          "output_type": "stream",
          "text": [
            "Using endpoint [https://ml.googleapis.com/]\n",
            "Deleting model [xgboost_model]...done.                                         \n"
          ]
        }
      ]
    }
  ]
}