{
  "nbformat": 4,
  "nbformat_minor": 0,
  "metadata": {
    "colab": {
      "name": "C2_W1_Lab_1_TFDV_Exercise.ipynb",
      "provenance": [],
      "collapsed_sections": []
    },
    "kernelspec": {
      "display_name": "Python 3",
      "language": "python",
      "name": "python3"
    },
    "language_info": {
      "codemirror_mode": {
        "name": "ipython",
        "version": 3
      },
      "file_extension": ".py",
      "mimetype": "text/x-python",
      "name": "python",
      "nbconvert_exporter": "python",
      "pygments_lexer": "ipython3",
      "version": "3.6.9"
    }
  },
  "cells": [
    {
      "cell_type": "markdown",
      "metadata": {
        "id": "2V_OLlgtQ0DW"
      },
      "source": [
        "# Ungraded Lab: TFDV Exercise\n",
        "\n",
        "\n",
        "In this notebook, you will get to practice using [TensorFlow Data Validation (TFDV)](https://cloud.google.com/solutions/machine-learning/analyzing-and-validating-data-at-scale-for-ml-using-tfx), an open-source Python package from the [TensorFlow Extended (TFX)](https://www.tensorflow.org/tfx) ecosystem. \n",
        "\n",
        "TFDV helps to understand, validate, and monitor production machine learning data at scale. It provides insight into some key questions in the data analysis process such as:\n",
        "\n",
        "* What are the underlying statistics of my data?\n",
        "\n",
        "* What does my training dataset look like?\n",
        "\n",
        "* How does my evaluation and serving datasets compare to the training dataset?\n",
        "\n",
        "* How can I find and fix data anomalies?\n",
        "\n",
        "You can use TFDV to compute descriptive statistics of the training data and generate a schema. You can then validate new datasets (e.g. the serving dataset from your customers) against this schema to detect and fix anomalies. This helps prevent the different types of skew. That way, you can be confident that your model is training on or predicting data that is consistent with the expected feature types and distribution.\n",
        "\n",
        "This ungraded exercise demonstrates useful functions of TFDV at an introductory level as preparation for this week's graded programming exercise. Specifically, you will:\n",
        "\n",
        "- **Generate and visualize statistics from a dataset**\n",
        "- **Detect and fix anomalies in an evaluation dataset**\n",
        "\n",
        "Let's begin!"
      ]
    },
    {
      "cell_type": "markdown",
      "metadata": {
        "id": "lyGr4CC8AUfu"
      },
      "source": [
        "## Package Installation and Imports"
      ]
    },
    {
      "cell_type": "code",
      "metadata": {
        "id": "GpGq8Zy1SxNS",
        "outputId": "4863256f-e010-4889-957c-088dde47d52f",
        "colab": {
          "base_uri": "https://localhost:8080/",
          "height": 1000
        }
      },
      "source": [
        "!pip install tensorflow_data_validation"
      ],
      "execution_count": 2,
      "outputs": [
        {
          "output_type": "stream",
          "text": [
            "Collecting tensorflow_data_validation\n",
            "  Downloading tensorflow_data_validation-1.2.0-cp37-cp37m-manylinux_2_12_x86_64.manylinux2010_x86_64.whl (1.4 MB)\n",
            "\u001b[K     |████████████████████████████████| 1.4 MB 5.1 MB/s \n",
            "\u001b[?25hCollecting joblib<0.15,>=0.12\n",
            "  Downloading joblib-0.14.1-py2.py3-none-any.whl (294 kB)\n",
            "\u001b[K     |████████████████████████████████| 294 kB 56.1 MB/s \n",
            "\u001b[?25hRequirement already satisfied: tensorflow!=2.0.*,!=2.1.*,!=2.2.*,!=2.3.*,!=2.4.*,<3,>=1.15.2 in /usr/local/lib/python3.7/dist-packages (from tensorflow_data_validation) (2.6.0)\n",
            "Requirement already satisfied: numpy<1.20,>=1.16 in /usr/local/lib/python3.7/dist-packages (from tensorflow_data_validation) (1.19.5)\n",
            "Collecting apache-beam[gcp]<3,>=2.31\n",
            "  Downloading apache_beam-2.32.0-cp37-cp37m-manylinux2010_x86_64.whl (9.8 MB)\n",
            "\u001b[K     |████████████████████████████████| 9.8 MB 25.3 MB/s \n",
            "\u001b[?25hRequirement already satisfied: tensorflow-metadata<1.3,>=1.2 in /usr/local/lib/python3.7/dist-packages (from tensorflow_data_validation) (1.2.0)\n",
            "Requirement already satisfied: pandas<2,>=1.0 in /usr/local/lib/python3.7/dist-packages (from tensorflow_data_validation) (1.1.5)\n",
            "Requirement already satisfied: six<2,>=1.12 in /usr/local/lib/python3.7/dist-packages (from tensorflow_data_validation) (1.15.0)\n",
            "Requirement already satisfied: absl-py<0.13,>=0.9 in /usr/local/lib/python3.7/dist-packages (from tensorflow_data_validation) (0.12.0)\n",
            "Collecting tfx-bsl<1.3,>=1.2\n",
            "  Downloading tfx_bsl-1.2.0-cp37-cp37m-manylinux_2_12_x86_64.manylinux2010_x86_64.whl (19.0 MB)\n",
            "\u001b[K     |████████████████████████████████| 19.0 MB 19 kB/s \n",
            "\u001b[?25hRequirement already satisfied: protobuf<4,>=3.13 in /usr/local/lib/python3.7/dist-packages (from tensorflow_data_validation) (3.17.3)\n",
            "Collecting google-cloud-bigquery<2.21,>=1.28.0\n",
            "  Downloading google_cloud_bigquery-2.20.0-py2.py3-none-any.whl (189 kB)\n",
            "\u001b[K     |████████████████████████████████| 189 kB 54.6 MB/s \n",
            "\u001b[?25hCollecting pyarrow<3,>=1\n",
            "  Downloading pyarrow-2.0.0-cp37-cp37m-manylinux2014_x86_64.whl (17.7 MB)\n",
            "\u001b[K     |████████████████████████████████| 17.7 MB 75 kB/s \n",
            "\u001b[?25hCollecting fastavro<2,>=0.21.4\n",
            "  Downloading fastavro-1.4.4-cp37-cp37m-manylinux_2_17_x86_64.manylinux2014_x86_64.whl (2.3 MB)\n",
            "\u001b[K     |████████████████████████████████| 2.3 MB 50.5 MB/s \n",
            "\u001b[?25hRequirement already satisfied: oauth2client<5,>=2.0.1 in /usr/local/lib/python3.7/dist-packages (from apache-beam[gcp]<3,>=2.31->tensorflow_data_validation) (4.1.3)\n",
            "Requirement already satisfied: httplib2<0.20.0,>=0.8 in /usr/local/lib/python3.7/dist-packages (from apache-beam[gcp]<3,>=2.31->tensorflow_data_validation) (0.17.4)\n",
            "Requirement already satisfied: python-dateutil<3,>=2.8.0 in /usr/local/lib/python3.7/dist-packages (from apache-beam[gcp]<3,>=2.31->tensorflow_data_validation) (2.8.2)\n",
            "Requirement already satisfied: crcmod<2.0,>=1.7 in /usr/local/lib/python3.7/dist-packages (from apache-beam[gcp]<3,>=2.31->tensorflow_data_validation) (1.7)\n",
            "Collecting dill<0.3.2,>=0.3.1.1\n",
            "  Downloading dill-0.3.1.1.tar.gz (151 kB)\n",
            "\u001b[K     |████████████████████████████████| 151 kB 41.3 MB/s \n",
            "\u001b[?25hCollecting avro-python3!=1.9.2,<1.10.0,>=1.8.1\n",
            "  Downloading avro-python3-1.9.2.1.tar.gz (37 kB)\n",
            "Collecting requests<3.0.0,>=2.24.0\n",
            "  Downloading requests-2.26.0-py2.py3-none-any.whl (62 kB)\n",
            "\u001b[K     |████████████████████████████████| 62 kB 650 kB/s \n",
            "\u001b[?25hRequirement already satisfied: pydot<2,>=1.2.0 in /usr/local/lib/python3.7/dist-packages (from apache-beam[gcp]<3,>=2.31->tensorflow_data_validation) (1.3.0)\n",
            "Collecting orjson<4.0\n",
            "  Downloading orjson-3.6.3-cp37-cp37m-manylinux_2_24_x86_64.whl (234 kB)\n",
            "\u001b[K     |████████████████████████████████| 234 kB 76.4 MB/s \n",
            "\u001b[?25hCollecting future<1.0.0,>=0.18.2\n",
            "  Downloading future-0.18.2.tar.gz (829 kB)\n",
            "\u001b[K     |████████████████████████████████| 829 kB 47.0 MB/s \n",
            "\u001b[?25hCollecting hdfs<3.0.0,>=2.1.0\n",
            "  Downloading hdfs-2.6.0-py3-none-any.whl (33 kB)\n",
            "Requirement already satisfied: grpcio<2,>=1.29.0 in /usr/local/lib/python3.7/dist-packages (from apache-beam[gcp]<3,>=2.31->tensorflow_data_validation) (1.39.0)\n",
            "Requirement already satisfied: pytz>=2018.3 in /usr/local/lib/python3.7/dist-packages (from apache-beam[gcp]<3,>=2.31->tensorflow_data_validation) (2018.9)\n",
            "Requirement already satisfied: pymongo<4.0.0,>=3.8.0 in /usr/local/lib/python3.7/dist-packages (from apache-beam[gcp]<3,>=2.31->tensorflow_data_validation) (3.12.0)\n",
            "Requirement already satisfied: typing-extensions<3.8.0,>=3.7.0 in /usr/local/lib/python3.7/dist-packages (from apache-beam[gcp]<3,>=2.31->tensorflow_data_validation) (3.7.4.3)\n",
            "Collecting google-cloud-bigtable<2,>=0.31.1\n",
            "  Downloading google_cloud_bigtable-1.7.0-py2.py3-none-any.whl (267 kB)\n",
            "\u001b[K     |████████████████████████████████| 267 kB 45.6 MB/s \n",
            "\u001b[?25hCollecting google-cloud-dlp<2,>=0.12.0\n",
            "  Downloading google_cloud_dlp-1.0.0-py2.py3-none-any.whl (169 kB)\n",
            "\u001b[K     |████████████████████████████████| 169 kB 58.7 MB/s \n",
            "\u001b[?25hCollecting google-apitools<0.5.32,>=0.5.31\n",
            "  Downloading google-apitools-0.5.31.tar.gz (173 kB)\n",
            "\u001b[K     |████████████████████████████████| 173 kB 56.5 MB/s \n",
            "\u001b[?25hRequirement already satisfied: google-auth<2,>=1.18.0 in /usr/local/lib/python3.7/dist-packages (from apache-beam[gcp]<3,>=2.31->tensorflow_data_validation) (1.34.0)\n",
            "Collecting google-cloud-spanner<2,>=1.13.0\n",
            "  Downloading google_cloud_spanner-1.19.1-py2.py3-none-any.whl (255 kB)\n",
            "\u001b[K     |████████████████████████████████| 255 kB 54.2 MB/s \n",
            "\u001b[?25hRequirement already satisfied: google-cloud-datastore<2,>=1.8.0 in /usr/local/lib/python3.7/dist-packages (from apache-beam[gcp]<3,>=2.31->tensorflow_data_validation) (1.8.0)\n",
            "Requirement already satisfied: cachetools<5,>=3.1.0 in /usr/local/lib/python3.7/dist-packages (from apache-beam[gcp]<3,>=2.31->tensorflow_data_validation) (4.2.2)\n",
            "Collecting google-cloud-videointelligence<2,>=1.8.0\n",
            "  Downloading google_cloud_videointelligence-1.16.1-py2.py3-none-any.whl (183 kB)\n",
            "\u001b[K     |████████████████████████████████| 183 kB 59.1 MB/s \n",
            "\u001b[?25hCollecting google-cloud-vision<2,>=0.38.0\n",
            "  Downloading google_cloud_vision-1.0.0-py2.py3-none-any.whl (435 kB)\n",
            "\u001b[K     |████████████████████████████████| 435 kB 37.9 MB/s \n",
            "\u001b[?25hCollecting google-cloud-pubsub<2,>=0.39.0\n",
            "  Downloading google_cloud_pubsub-1.7.0-py2.py3-none-any.whl (144 kB)\n",
            "\u001b[K     |████████████████████████████████| 144 kB 49.2 MB/s \n",
            "\u001b[?25hCollecting grpcio-gcp<1,>=0.2.2\n",
            "  Downloading grpcio_gcp-0.2.2-py2.py3-none-any.whl (9.4 kB)\n",
            "Collecting google-cloud-language<2,>=1.3.0\n",
            "  Downloading google_cloud_language-1.3.0-py2.py3-none-any.whl (83 kB)\n",
            "\u001b[K     |████████████████████████████████| 83 kB 1.8 MB/s \n",
            "\u001b[?25hRequirement already satisfied: google-cloud-core<2,>=0.28.1 in /usr/local/lib/python3.7/dist-packages (from apache-beam[gcp]<3,>=2.31->tensorflow_data_validation) (1.0.3)\n",
            "Collecting google-cloud-recommendations-ai<=0.2.0,>=0.1.0\n",
            "  Downloading google_cloud_recommendations_ai-0.2.0-py2.py3-none-any.whl (180 kB)\n",
            "\u001b[K     |████████████████████████████████| 180 kB 65.0 MB/s \n",
            "\u001b[?25hCollecting fasteners>=0.14\n",
            "  Downloading fasteners-0.16.3-py2.py3-none-any.whl (28 kB)\n",
            "Requirement already satisfied: setuptools>=40.3.0 in /usr/local/lib/python3.7/dist-packages (from google-auth<2,>=1.18.0->apache-beam[gcp]<3,>=2.31->tensorflow_data_validation) (57.4.0)\n",
            "Requirement already satisfied: rsa<5,>=3.1.4 in /usr/local/lib/python3.7/dist-packages (from google-auth<2,>=1.18.0->apache-beam[gcp]<3,>=2.31->tensorflow_data_validation) (4.7.2)\n",
            "Requirement already satisfied: pyasn1-modules>=0.2.1 in /usr/local/lib/python3.7/dist-packages (from google-auth<2,>=1.18.0->apache-beam[gcp]<3,>=2.31->tensorflow_data_validation) (0.2.8)\n",
            "Collecting google-resumable-media<2.0dev,>=0.6.0\n",
            "  Downloading google_resumable_media-1.3.3-py2.py3-none-any.whl (75 kB)\n",
            "\u001b[K     |████████████████████████████████| 75 kB 4.1 MB/s \n",
            "\u001b[?25hCollecting proto-plus>=1.10.0\n",
            "  Downloading proto_plus-1.19.0-py3-none-any.whl (42 kB)\n",
            "\u001b[K     |████████████████████████████████| 42 kB 1.4 MB/s \n",
            "\u001b[?25hCollecting google-cloud-core<2,>=0.28.1\n",
            "  Downloading google_cloud_core-1.7.2-py2.py3-none-any.whl (28 kB)\n",
            "Requirement already satisfied: packaging>=14.3 in /usr/local/lib/python3.7/dist-packages (from google-cloud-bigquery<2.21,>=1.28.0->tensorflow_data_validation) (21.0)\n",
            "Collecting google-api-core[grpc]<2.0.0dev,>=1.29.0\n",
            "  Downloading google_api_core-1.31.2-py2.py3-none-any.whl (93 kB)\n",
            "\u001b[K     |████████████████████████████████| 93 kB 1.4 MB/s \n",
            "\u001b[?25hRequirement already satisfied: googleapis-common-protos<2.0dev,>=1.6.0 in /usr/local/lib/python3.7/dist-packages (from google-api-core[grpc]<2.0.0dev,>=1.29.0->google-cloud-bigquery<2.21,>=1.28.0->tensorflow_data_validation) (1.53.0)\n",
            "Collecting grpc-google-iam-v1<0.13dev,>=0.12.3\n",
            "  Downloading grpc-google-iam-v1-0.12.3.tar.gz (13 kB)\n",
            "Collecting google-crc32c<2.0dev,>=1.0\n",
            "  Downloading google_crc32c-1.1.2-cp37-cp37m-manylinux2014_x86_64.whl (38 kB)\n",
            "Requirement already satisfied: cffi>=1.0.0 in /usr/local/lib/python3.7/dist-packages (from google-crc32c<2.0dev,>=1.0->google-resumable-media<2.0dev,>=0.6.0->google-cloud-bigquery<2.21,>=1.28.0->tensorflow_data_validation) (1.14.6)\n",
            "Requirement already satisfied: pycparser in /usr/local/lib/python3.7/dist-packages (from cffi>=1.0.0->google-crc32c<2.0dev,>=1.0->google-resumable-media<2.0dev,>=0.6.0->google-cloud-bigquery<2.21,>=1.28.0->tensorflow_data_validation) (2.20)\n",
            "Requirement already satisfied: docopt in /usr/local/lib/python3.7/dist-packages (from hdfs<3.0.0,>=2.1.0->apache-beam[gcp]<3,>=2.31->tensorflow_data_validation) (0.6.2)\n",
            "Requirement already satisfied: pyasn1>=0.1.7 in /usr/local/lib/python3.7/dist-packages (from oauth2client<5,>=2.0.1->apache-beam[gcp]<3,>=2.31->tensorflow_data_validation) (0.4.8)\n",
            "Requirement already satisfied: pyparsing>=2.0.2 in /usr/local/lib/python3.7/dist-packages (from packaging>=14.3->google-cloud-bigquery<2.21,>=1.28.0->tensorflow_data_validation) (2.4.7)\n",
            "Requirement already satisfied: urllib3<1.27,>=1.21.1 in /usr/local/lib/python3.7/dist-packages (from requests<3.0.0,>=2.24.0->apache-beam[gcp]<3,>=2.31->tensorflow_data_validation) (1.24.3)\n",
            "Requirement already satisfied: certifi>=2017.4.17 in /usr/local/lib/python3.7/dist-packages (from requests<3.0.0,>=2.24.0->apache-beam[gcp]<3,>=2.31->tensorflow_data_validation) (2021.5.30)\n",
            "Requirement already satisfied: charset-normalizer~=2.0.0 in /usr/local/lib/python3.7/dist-packages (from requests<3.0.0,>=2.24.0->apache-beam[gcp]<3,>=2.31->tensorflow_data_validation) (2.0.4)\n",
            "Requirement already satisfied: idna<4,>=2.5 in /usr/local/lib/python3.7/dist-packages (from requests<3.0.0,>=2.24.0->apache-beam[gcp]<3,>=2.31->tensorflow_data_validation) (2.10)\n",
            "Requirement already satisfied: gast==0.4.0 in /usr/local/lib/python3.7/dist-packages (from tensorflow!=2.0.*,!=2.1.*,!=2.2.*,!=2.3.*,!=2.4.*,<3,>=1.15.2->tensorflow_data_validation) (0.4.0)\n",
            "Requirement already satisfied: keras-preprocessing~=1.1.2 in /usr/local/lib/python3.7/dist-packages (from tensorflow!=2.0.*,!=2.1.*,!=2.2.*,!=2.3.*,!=2.4.*,<3,>=1.15.2->tensorflow_data_validation) (1.1.2)\n",
            "Requirement already satisfied: astunparse~=1.6.3 in /usr/local/lib/python3.7/dist-packages (from tensorflow!=2.0.*,!=2.1.*,!=2.2.*,!=2.3.*,!=2.4.*,<3,>=1.15.2->tensorflow_data_validation) (1.6.3)\n",
            "Requirement already satisfied: tensorboard~=2.6 in /usr/local/lib/python3.7/dist-packages (from tensorflow!=2.0.*,!=2.1.*,!=2.2.*,!=2.3.*,!=2.4.*,<3,>=1.15.2->tensorflow_data_validation) (2.6.0)\n",
            "Requirement already satisfied: tensorflow-estimator~=2.6 in /usr/local/lib/python3.7/dist-packages (from tensorflow!=2.0.*,!=2.1.*,!=2.2.*,!=2.3.*,!=2.4.*,<3,>=1.15.2->tensorflow_data_validation) (2.6.0)\n",
            "Requirement already satisfied: opt-einsum~=3.3.0 in /usr/local/lib/python3.7/dist-packages (from tensorflow!=2.0.*,!=2.1.*,!=2.2.*,!=2.3.*,!=2.4.*,<3,>=1.15.2->tensorflow_data_validation) (3.3.0)\n",
            "Requirement already satisfied: clang~=5.0 in /usr/local/lib/python3.7/dist-packages (from tensorflow!=2.0.*,!=2.1.*,!=2.2.*,!=2.3.*,!=2.4.*,<3,>=1.15.2->tensorflow_data_validation) (5.0)\n",
            "Requirement already satisfied: keras~=2.6 in /usr/local/lib/python3.7/dist-packages (from tensorflow!=2.0.*,!=2.1.*,!=2.2.*,!=2.3.*,!=2.4.*,<3,>=1.15.2->tensorflow_data_validation) (2.6.0)\n",
            "Requirement already satisfied: termcolor~=1.1.0 in /usr/local/lib/python3.7/dist-packages (from tensorflow!=2.0.*,!=2.1.*,!=2.2.*,!=2.3.*,!=2.4.*,<3,>=1.15.2->tensorflow_data_validation) (1.1.0)\n",
            "Requirement already satisfied: h5py~=3.1.0 in /usr/local/lib/python3.7/dist-packages (from tensorflow!=2.0.*,!=2.1.*,!=2.2.*,!=2.3.*,!=2.4.*,<3,>=1.15.2->tensorflow_data_validation) (3.1.0)\n",
            "Requirement already satisfied: wheel~=0.35 in /usr/local/lib/python3.7/dist-packages (from tensorflow!=2.0.*,!=2.1.*,!=2.2.*,!=2.3.*,!=2.4.*,<3,>=1.15.2->tensorflow_data_validation) (0.37.0)\n",
            "Requirement already satisfied: google-pasta~=0.2 in /usr/local/lib/python3.7/dist-packages (from tensorflow!=2.0.*,!=2.1.*,!=2.2.*,!=2.3.*,!=2.4.*,<3,>=1.15.2->tensorflow_data_validation) (0.2.0)\n",
            "Requirement already satisfied: wrapt~=1.12.1 in /usr/local/lib/python3.7/dist-packages (from tensorflow!=2.0.*,!=2.1.*,!=2.2.*,!=2.3.*,!=2.4.*,<3,>=1.15.2->tensorflow_data_validation) (1.12.1)\n",
            "Requirement already satisfied: flatbuffers~=1.12.0 in /usr/local/lib/python3.7/dist-packages (from tensorflow!=2.0.*,!=2.1.*,!=2.2.*,!=2.3.*,!=2.4.*,<3,>=1.15.2->tensorflow_data_validation) (1.12)\n",
            "Requirement already satisfied: cached-property in /usr/local/lib/python3.7/dist-packages (from h5py~=3.1.0->tensorflow!=2.0.*,!=2.1.*,!=2.2.*,!=2.3.*,!=2.4.*,<3,>=1.15.2->tensorflow_data_validation) (1.5.2)\n",
            "Requirement already satisfied: google-auth-oauthlib<0.5,>=0.4.1 in /usr/local/lib/python3.7/dist-packages (from tensorboard~=2.6->tensorflow!=2.0.*,!=2.1.*,!=2.2.*,!=2.3.*,!=2.4.*,<3,>=1.15.2->tensorflow_data_validation) (0.4.5)\n",
            "Requirement already satisfied: tensorboard-plugin-wit>=1.6.0 in /usr/local/lib/python3.7/dist-packages (from tensorboard~=2.6->tensorflow!=2.0.*,!=2.1.*,!=2.2.*,!=2.3.*,!=2.4.*,<3,>=1.15.2->tensorflow_data_validation) (1.8.0)\n",
            "Requirement already satisfied: tensorboard-data-server<0.7.0,>=0.6.0 in /usr/local/lib/python3.7/dist-packages (from tensorboard~=2.6->tensorflow!=2.0.*,!=2.1.*,!=2.2.*,!=2.3.*,!=2.4.*,<3,>=1.15.2->tensorflow_data_validation) (0.6.1)\n",
            "Requirement already satisfied: markdown>=2.6.8 in /usr/local/lib/python3.7/dist-packages (from tensorboard~=2.6->tensorflow!=2.0.*,!=2.1.*,!=2.2.*,!=2.3.*,!=2.4.*,<3,>=1.15.2->tensorflow_data_validation) (3.3.4)\n",
            "Requirement already satisfied: werkzeug>=0.11.15 in /usr/local/lib/python3.7/dist-packages (from tensorboard~=2.6->tensorflow!=2.0.*,!=2.1.*,!=2.2.*,!=2.3.*,!=2.4.*,<3,>=1.15.2->tensorflow_data_validation) (1.0.1)\n",
            "Requirement already satisfied: requests-oauthlib>=0.7.0 in /usr/local/lib/python3.7/dist-packages (from google-auth-oauthlib<0.5,>=0.4.1->tensorboard~=2.6->tensorflow!=2.0.*,!=2.1.*,!=2.2.*,!=2.3.*,!=2.4.*,<3,>=1.15.2->tensorflow_data_validation) (1.3.0)\n",
            "Requirement already satisfied: importlib-metadata in /usr/local/lib/python3.7/dist-packages (from markdown>=2.6.8->tensorboard~=2.6->tensorflow!=2.0.*,!=2.1.*,!=2.2.*,!=2.3.*,!=2.4.*,<3,>=1.15.2->tensorflow_data_validation) (4.6.4)\n",
            "Requirement already satisfied: oauthlib>=3.0.0 in /usr/local/lib/python3.7/dist-packages (from requests-oauthlib>=0.7.0->google-auth-oauthlib<0.5,>=0.4.1->tensorboard~=2.6->tensorflow!=2.0.*,!=2.1.*,!=2.2.*,!=2.3.*,!=2.4.*,<3,>=1.15.2->tensorflow_data_validation) (3.1.1)\n",
            "Collecting tensorflow-serving-api!=2.0.*,!=2.1.*,!=2.2.*,!=2.3.*,!=2.4.*,<3,>=1.15\n",
            "  Downloading tensorflow_serving_api-2.6.0-py2.py3-none-any.whl (37 kB)\n",
            "Requirement already satisfied: google-api-python-client<2,>=1.7.11 in /usr/local/lib/python3.7/dist-packages (from tfx-bsl<1.3,>=1.2->tensorflow_data_validation) (1.12.8)\n",
            "Requirement already satisfied: uritemplate<4dev,>=3.0.0 in /usr/local/lib/python3.7/dist-packages (from google-api-python-client<2,>=1.7.11->tfx-bsl<1.3,>=1.2->tensorflow_data_validation) (3.0.1)\n",
            "Requirement already satisfied: google-auth-httplib2>=0.0.3 in /usr/local/lib/python3.7/dist-packages (from google-api-python-client<2,>=1.7.11->tfx-bsl<1.3,>=1.2->tensorflow_data_validation) (0.0.4)\n",
            "Requirement already satisfied: zipp>=0.5 in /usr/local/lib/python3.7/dist-packages (from importlib-metadata->markdown>=2.6.8->tensorboard~=2.6->tensorflow!=2.0.*,!=2.1.*,!=2.2.*,!=2.3.*,!=2.4.*,<3,>=1.15.2->tensorflow_data_validation) (3.5.0)\n",
            "Building wheels for collected packages: avro-python3, dill, future, google-apitools, grpc-google-iam-v1\n",
            "  Building wheel for avro-python3 (setup.py) ... \u001b[?25l\u001b[?25hdone\n",
            "  Created wheel for avro-python3: filename=avro_python3-1.9.2.1-py3-none-any.whl size=43512 sha256=3999283a0cd5026568308e32e3470faeb197602d25325a9ad575dbec41175dcd\n",
            "  Stored in directory: /root/.cache/pip/wheels/bc/49/5f/fdb5b9d85055c478213e0158ac122b596816149a02d82e0ab1\n",
            "  Building wheel for dill (setup.py) ... \u001b[?25l\u001b[?25hdone\n",
            "  Created wheel for dill: filename=dill-0.3.1.1-py3-none-any.whl size=78546 sha256=9dc359a6ad2b28765960881562c2701fe2d07c036487d56a016c7c181f763811\n",
            "  Stored in directory: /root/.cache/pip/wheels/a4/61/fd/c57e374e580aa78a45ed78d5859b3a44436af17e22ca53284f\n",
            "  Building wheel for future (setup.py) ... \u001b[?25l\u001b[?25hdone\n",
            "  Created wheel for future: filename=future-0.18.2-py3-none-any.whl size=491070 sha256=f36f2407c0ba9a7f9a1e163748d37ccb2dd6f38cc5bd26464f4b50a6e9edda0c\n",
            "  Stored in directory: /root/.cache/pip/wheels/56/b0/fe/4410d17b32f1f0c3cf54cdfb2bc04d7b4b8f4ae377e2229ba0\n",
            "  Building wheel for google-apitools (setup.py) ... \u001b[?25l\u001b[?25hdone\n",
            "  Created wheel for google-apitools: filename=google_apitools-0.5.31-py3-none-any.whl size=131040 sha256=4835c32a1dc8801d4ca946361051d3e79deca03148fd6364aa68ccc631d30a3c\n",
            "  Stored in directory: /root/.cache/pip/wheels/19/b5/2f/1cc3cf2b31e7a9cd1508731212526d9550271274d351c96f16\n",
            "  Building wheel for grpc-google-iam-v1 (setup.py) ... \u001b[?25l\u001b[?25hdone\n",
            "  Created wheel for grpc-google-iam-v1: filename=grpc_google_iam_v1-0.12.3-py3-none-any.whl size=18515 sha256=5e44cea67db0dcebc045618bcc8a3af9e6c28b66089cdb0b317025a8b8984eef\n",
            "  Stored in directory: /root/.cache/pip/wheels/b9/ee/67/2e444183030cb8d31ce8b34cee34a7afdbd3ba5959ea846380\n",
            "Successfully built avro-python3 dill future google-apitools grpc-google-iam-v1\n",
            "Installing collected packages: requests, grpcio-gcp, google-crc32c, google-api-core, pyarrow, proto-plus, orjson, hdfs, grpc-google-iam-v1, google-resumable-media, google-cloud-core, future, fasteners, fastavro, dill, avro-python3, google-cloud-vision, google-cloud-videointelligence, google-cloud-spanner, google-cloud-recommendations-ai, google-cloud-pubsub, google-cloud-language, google-cloud-dlp, google-cloud-bigtable, google-cloud-bigquery, google-apitools, apache-beam, tensorflow-serving-api, tfx-bsl, joblib, tensorflow-data-validation\n",
            "  Attempting uninstall: requests\n",
            "    Found existing installation: requests 2.23.0\n",
            "    Uninstalling requests-2.23.0:\n",
            "      Successfully uninstalled requests-2.23.0\n",
            "  Attempting uninstall: google-api-core\n",
            "    Found existing installation: google-api-core 1.26.3\n",
            "    Uninstalling google-api-core-1.26.3:\n",
            "      Successfully uninstalled google-api-core-1.26.3\n",
            "  Attempting uninstall: pyarrow\n",
            "    Found existing installation: pyarrow 3.0.0\n",
            "    Uninstalling pyarrow-3.0.0:\n",
            "      Successfully uninstalled pyarrow-3.0.0\n",
            "  Attempting uninstall: google-resumable-media\n",
            "    Found existing installation: google-resumable-media 0.4.1\n",
            "    Uninstalling google-resumable-media-0.4.1:\n",
            "      Successfully uninstalled google-resumable-media-0.4.1\n",
            "  Attempting uninstall: google-cloud-core\n",
            "    Found existing installation: google-cloud-core 1.0.3\n",
            "    Uninstalling google-cloud-core-1.0.3:\n",
            "      Successfully uninstalled google-cloud-core-1.0.3\n",
            "  Attempting uninstall: future\n",
            "    Found existing installation: future 0.16.0\n",
            "    Uninstalling future-0.16.0:\n",
            "      Successfully uninstalled future-0.16.0\n",
            "  Attempting uninstall: dill\n",
            "    Found existing installation: dill 0.3.4\n",
            "    Uninstalling dill-0.3.4:\n",
            "      Successfully uninstalled dill-0.3.4\n",
            "  Attempting uninstall: google-cloud-language\n",
            "    Found existing installation: google-cloud-language 1.2.0\n",
            "    Uninstalling google-cloud-language-1.2.0:\n",
            "      Successfully uninstalled google-cloud-language-1.2.0\n",
            "  Attempting uninstall: google-cloud-bigquery\n",
            "    Found existing installation: google-cloud-bigquery 1.21.0\n",
            "    Uninstalling google-cloud-bigquery-1.21.0:\n",
            "      Successfully uninstalled google-cloud-bigquery-1.21.0\n",
            "  Attempting uninstall: joblib\n",
            "    Found existing installation: joblib 1.0.1\n",
            "    Uninstalling joblib-1.0.1:\n",
            "      Successfully uninstalled joblib-1.0.1\n",
            "\u001b[31mERROR: pip's dependency resolver does not currently take into account all the packages that are installed. This behaviour is the source of the following dependency conflicts.\n",
            "pandas-gbq 0.13.3 requires google-cloud-bigquery[bqstorage,pandas]<2.0.0dev,>=1.11.1, but you have google-cloud-bigquery 2.20.0 which is incompatible.\n",
            "multiprocess 0.70.12.2 requires dill>=0.3.4, but you have dill 0.3.1.1 which is incompatible.\n",
            "google-colab 1.0.0 requires requests~=2.23.0, but you have requests 2.26.0 which is incompatible.\n",
            "google-cloud-storage 1.18.1 requires google-resumable-media<0.5.0dev,>=0.3.1, but you have google-resumable-media 1.3.3 which is incompatible.\n",
            "datascience 0.10.6 requires folium==0.2.1, but you have folium 0.8.3 which is incompatible.\u001b[0m\n",
            "Successfully installed apache-beam-2.32.0 avro-python3-1.9.2.1 dill-0.3.1.1 fastavro-1.4.4 fasteners-0.16.3 future-0.18.2 google-api-core-1.31.2 google-apitools-0.5.31 google-cloud-bigquery-2.20.0 google-cloud-bigtable-1.7.0 google-cloud-core-1.7.2 google-cloud-dlp-1.0.0 google-cloud-language-1.3.0 google-cloud-pubsub-1.7.0 google-cloud-recommendations-ai-0.2.0 google-cloud-spanner-1.19.1 google-cloud-videointelligence-1.16.1 google-cloud-vision-1.0.0 google-crc32c-1.1.2 google-resumable-media-1.3.3 grpc-google-iam-v1-0.12.3 grpcio-gcp-0.2.2 hdfs-2.6.0 joblib-0.14.1 orjson-3.6.3 proto-plus-1.19.0 pyarrow-2.0.0 requests-2.26.0 tensorflow-data-validation-1.2.0 tensorflow-serving-api-2.6.0 tfx-bsl-1.2.0\n"
          ],
          "name": "stdout"
        },
        {
          "output_type": "display_data",
          "data": {
            "application/vnd.colab-display-data+json": {
              "pip_warning": {
                "packages": [
                  "dill",
                  "google",
                  "requests"
                ]
              }
            }
          },
          "metadata": {}
        }
      ]
    },
    {
      "cell_type": "code",
      "metadata": {
        "id": "GHi-tkOeBOis",
        "outputId": "7e69c563-de2b-4f81-efb2-4373032bc72a",
        "colab": {
          "base_uri": "https://localhost:8080/"
        }
      },
      "source": [
        "import tensorflow as tf\n",
        "import tensorflow_data_validation as tfdv\n",
        "import pandas as pd\n",
        "\n",
        "from sklearn.model_selection import train_test_split\n",
        "from util import add_extra_rows\n",
        "\n",
        "from tensorflow_metadata.proto.v0 import schema_pb2\n",
        "\n",
        "print('TFDV Version: {}'.format(tfdv.__version__))\n",
        "print('Tensorflow Version: {}'.format(tf.__version__))"
      ],
      "execution_count": 2,
      "outputs": [
        {
          "output_type": "stream",
          "text": [
            "TFDV Version: 1.2.0\n",
            "Tensorflow Version: 2.6.0\n"
          ],
          "name": "stdout"
        }
      ]
    },
    {
      "cell_type": "markdown",
      "metadata": {
        "id": "Kzt9rO9eAGF-"
      },
      "source": [
        "## Download the dataset\n",
        "\n",
        "You will be working with the [Census Income Dataset](http://archive.ics.uci.edu/ml/datasets/Census+Income), a dataset that can be used to predict if an individual earns more than or less than 50k US Dollars annually. The summary of attribute names with descriptions/expected values is shown below and you can read more about it [in this data description file.](https://archive.ics.uci.edu/ml/machine-learning-databases/adult/adult.names)\n",
        "\n",
        "\n",
        "* **age**: continuous.\n",
        "* **workclass**: Private, Self-emp-not-inc, Self-emp-inc, Federal-gov, Local-gov, State-gov, Without-pay, Never-worked.\n",
        "* **fnlwgt**: continuous.\n",
        "* **education**: Bachelors, Some-college, 11th, HS-grad, Prof-school, Assoc-acdm, Assoc-voc, 9th, 7th-8th, 12th, Masters, 1st-4th, 10th, Doctorate, 5th-6th, Preschool.\n",
        "* **education-num**: continuous.\n",
        "* **marital-status**: Married-civ-spouse, Divorced, Never-married, Separated, Widowed, Married-spouse-absent, Married-AF-spouse.\n",
        "* **occupation**: Tech-support, Craft-repair, Other-service, Sales, Exec-managerial, Prof-specialty, Handlers-cleaners, Machine-op-inspct, Adm-clerical, Farming-fishing, Transport-moving, Priv-house-serv, Protective-serv, Armed-Forces.\n",
        "* **relationship**: Wife, Own-child, Husband, Not-in-family, Other-relative, Unmarried.\n",
        "* **race**: White, Asian-Pac-Islander, Amer-Indian-Eskimo, Other, Black.\n",
        "* **sex**: Female, Male.\n",
        "* **capital-gain**: continuous.\n",
        "* **capital-loss**: continuous.\n",
        "* **hours-per-week**: continuous.\n",
        "* **native-country**: United-States, Cambodia, England, Puerto-Rico, Canada, Germany, Outlying-US(Guam-USVI-etc), India, Japan, Greece, South, China, Cuba, Iran, Honduras, Philippines, Italy, Poland, Jamaica, Vietnam, Mexico, Portugal, Ireland, France, Dominican-Republic, Laos, Ecuador, Taiwan, Haiti, Columbia, Hungary, Guatemala, Nicaragua, Scotland, Thailand, Yugoslavia, El-Salvador, Trinadad&Tobago, Peru, Hong, Holand-Netherlands.\n",
        "\n",
        "Let's load the dataset and split it into training and evaluation sets. We will not shuffle them for consistent results in this demo notebook but you should otherwise in real projects."
      ]
    },
    {
      "cell_type": "code",
      "metadata": {
        "id": "WKTfuT2rga-_"
      },
      "source": [
        "# Read in the training and evaluation datasets\n",
        "df = pd.read_csv('/content/adult.data', skipinitialspace=True)#('data/adult.data', skipinitialspace=True)\n",
        "\n",
        "# Split the dataset. Do not shuffle for this demo notebook.\n",
        "train_df, eval_df = train_test_split(df, test_size=0.2, shuffle=False)"
      ],
      "execution_count": 47,
      "outputs": []
    },
    {
      "cell_type": "markdown",
      "metadata": {
        "id": "0RQvgiMRq0pn"
      },
      "source": [
        "Let's see the first few columns of the train and eval sets."
      ]
    },
    {
      "cell_type": "code",
      "metadata": {
        "id": "uxDFD6dR0PYH",
        "outputId": "981246a5-c4cb-4d0c-c53c-6ff069506461",
        "colab": {
          "base_uri": "https://localhost:8080/",
          "height": 206
        }
      },
      "source": [
        "# Preview the train set\n",
        "train_df.head()"
      ],
      "execution_count": 48,
      "outputs": [
        {
          "output_type": "execute_result",
          "data": {
            "text/html": [
              "<div>\n",
              "<style scoped>\n",
              "    .dataframe tbody tr th:only-of-type {\n",
              "        vertical-align: middle;\n",
              "    }\n",
              "\n",
              "    .dataframe tbody tr th {\n",
              "        vertical-align: top;\n",
              "    }\n",
              "\n",
              "    .dataframe thead th {\n",
              "        text-align: right;\n",
              "    }\n",
              "</style>\n",
              "<table border=\"1\" class=\"dataframe\">\n",
              "  <thead>\n",
              "    <tr style=\"text-align: right;\">\n",
              "      <th></th>\n",
              "      <th>39</th>\n",
              "      <th>State-gov</th>\n",
              "      <th>77516</th>\n",
              "      <th>Bachelors</th>\n",
              "      <th>13</th>\n",
              "      <th>Never-married</th>\n",
              "      <th>Adm-clerical</th>\n",
              "      <th>Not-in-family</th>\n",
              "      <th>White</th>\n",
              "      <th>Male</th>\n",
              "      <th>2174</th>\n",
              "      <th>0</th>\n",
              "      <th>40</th>\n",
              "      <th>United-States</th>\n",
              "      <th>&lt;=50K</th>\n",
              "    </tr>\n",
              "  </thead>\n",
              "  <tbody>\n",
              "    <tr>\n",
              "      <th>0</th>\n",
              "      <td>50</td>\n",
              "      <td>Self-emp-not-inc</td>\n",
              "      <td>83311</td>\n",
              "      <td>Bachelors</td>\n",
              "      <td>13</td>\n",
              "      <td>Married-civ-spouse</td>\n",
              "      <td>Exec-managerial</td>\n",
              "      <td>Husband</td>\n",
              "      <td>White</td>\n",
              "      <td>Male</td>\n",
              "      <td>0</td>\n",
              "      <td>0</td>\n",
              "      <td>13</td>\n",
              "      <td>United-States</td>\n",
              "      <td>&lt;=50K</td>\n",
              "    </tr>\n",
              "    <tr>\n",
              "      <th>1</th>\n",
              "      <td>38</td>\n",
              "      <td>Private</td>\n",
              "      <td>215646</td>\n",
              "      <td>HS-grad</td>\n",
              "      <td>9</td>\n",
              "      <td>Divorced</td>\n",
              "      <td>Handlers-cleaners</td>\n",
              "      <td>Not-in-family</td>\n",
              "      <td>White</td>\n",
              "      <td>Male</td>\n",
              "      <td>0</td>\n",
              "      <td>0</td>\n",
              "      <td>40</td>\n",
              "      <td>United-States</td>\n",
              "      <td>&lt;=50K</td>\n",
              "    </tr>\n",
              "    <tr>\n",
              "      <th>2</th>\n",
              "      <td>53</td>\n",
              "      <td>Private</td>\n",
              "      <td>234721</td>\n",
              "      <td>11th</td>\n",
              "      <td>7</td>\n",
              "      <td>Married-civ-spouse</td>\n",
              "      <td>Handlers-cleaners</td>\n",
              "      <td>Husband</td>\n",
              "      <td>Black</td>\n",
              "      <td>Male</td>\n",
              "      <td>0</td>\n",
              "      <td>0</td>\n",
              "      <td>40</td>\n",
              "      <td>United-States</td>\n",
              "      <td>&lt;=50K</td>\n",
              "    </tr>\n",
              "    <tr>\n",
              "      <th>3</th>\n",
              "      <td>28</td>\n",
              "      <td>Private</td>\n",
              "      <td>338409</td>\n",
              "      <td>Bachelors</td>\n",
              "      <td>13</td>\n",
              "      <td>Married-civ-spouse</td>\n",
              "      <td>Prof-specialty</td>\n",
              "      <td>Wife</td>\n",
              "      <td>Black</td>\n",
              "      <td>Female</td>\n",
              "      <td>0</td>\n",
              "      <td>0</td>\n",
              "      <td>40</td>\n",
              "      <td>Cuba</td>\n",
              "      <td>&lt;=50K</td>\n",
              "    </tr>\n",
              "    <tr>\n",
              "      <th>4</th>\n",
              "      <td>37</td>\n",
              "      <td>Private</td>\n",
              "      <td>284582</td>\n",
              "      <td>Masters</td>\n",
              "      <td>14</td>\n",
              "      <td>Married-civ-spouse</td>\n",
              "      <td>Exec-managerial</td>\n",
              "      <td>Wife</td>\n",
              "      <td>White</td>\n",
              "      <td>Female</td>\n",
              "      <td>0</td>\n",
              "      <td>0</td>\n",
              "      <td>40</td>\n",
              "      <td>United-States</td>\n",
              "      <td>&lt;=50K</td>\n",
              "    </tr>\n",
              "  </tbody>\n",
              "</table>\n",
              "</div>"
            ],
            "text/plain": [
              "   39         State-gov   77516  Bachelors  ...  0  40  United-States  <=50K\n",
              "0  50  Self-emp-not-inc  83311   Bachelors  ...  0  13  United-States  <=50K\n",
              "1  38  Private           215646  HS-grad    ...  0  40  United-States  <=50K\n",
              "2  53  Private           234721  11th       ...  0  40  United-States  <=50K\n",
              "3  28  Private           338409  Bachelors  ...  0  40  Cuba           <=50K\n",
              "4  37  Private           284582  Masters    ...  0  40  United-States  <=50K\n",
              "\n",
              "[5 rows x 15 columns]"
            ]
          },
          "metadata": {},
          "execution_count": 48
        }
      ]
    },
    {
      "cell_type": "code",
      "metadata": {
        "id": "0r_mC_ceUl4d",
        "outputId": "844d5e4f-0e2b-4895-d2cc-7d05ef33cb3a",
        "colab": {
          "base_uri": "https://localhost:8080/"
        }
      },
      "source": [
        "print(train_df.shape)"
      ],
      "execution_count": 5,
      "outputs": [
        {
          "output_type": "stream",
          "text": [
            "(26048, 15)\n"
          ],
          "name": "stdout"
        }
      ]
    },
    {
      "cell_type": "code",
      "metadata": {
        "id": "yyrmQLCm0a5V",
        "outputId": "ab17bd80-c50f-411e-c7ae-cdaf314ac50a",
        "colab": {
          "base_uri": "https://localhost:8080/",
          "height": 206
        }
      },
      "source": [
        "# Preview the eval set\n",
        "eval_df.head()"
      ],
      "execution_count": 49,
      "outputs": [
        {
          "output_type": "execute_result",
          "data": {
            "text/html": [
              "<div>\n",
              "<style scoped>\n",
              "    .dataframe tbody tr th:only-of-type {\n",
              "        vertical-align: middle;\n",
              "    }\n",
              "\n",
              "    .dataframe tbody tr th {\n",
              "        vertical-align: top;\n",
              "    }\n",
              "\n",
              "    .dataframe thead th {\n",
              "        text-align: right;\n",
              "    }\n",
              "</style>\n",
              "<table border=\"1\" class=\"dataframe\">\n",
              "  <thead>\n",
              "    <tr style=\"text-align: right;\">\n",
              "      <th></th>\n",
              "      <th>39</th>\n",
              "      <th>State-gov</th>\n",
              "      <th>77516</th>\n",
              "      <th>Bachelors</th>\n",
              "      <th>13</th>\n",
              "      <th>Never-married</th>\n",
              "      <th>Adm-clerical</th>\n",
              "      <th>Not-in-family</th>\n",
              "      <th>White</th>\n",
              "      <th>Male</th>\n",
              "      <th>2174</th>\n",
              "      <th>0</th>\n",
              "      <th>40</th>\n",
              "      <th>United-States</th>\n",
              "      <th>&lt;=50K</th>\n",
              "    </tr>\n",
              "  </thead>\n",
              "  <tbody>\n",
              "    <tr>\n",
              "      <th>26048</th>\n",
              "      <td>21</td>\n",
              "      <td>Private</td>\n",
              "      <td>216129</td>\n",
              "      <td>HS-grad</td>\n",
              "      <td>9</td>\n",
              "      <td>Never-married</td>\n",
              "      <td>Other-service</td>\n",
              "      <td>Own-child</td>\n",
              "      <td>White</td>\n",
              "      <td>Male</td>\n",
              "      <td>0</td>\n",
              "      <td>0</td>\n",
              "      <td>35</td>\n",
              "      <td>United-States</td>\n",
              "      <td>&lt;=50K</td>\n",
              "    </tr>\n",
              "    <tr>\n",
              "      <th>26049</th>\n",
              "      <td>33</td>\n",
              "      <td>Private</td>\n",
              "      <td>189368</td>\n",
              "      <td>Some-college</td>\n",
              "      <td>10</td>\n",
              "      <td>Married-civ-spouse</td>\n",
              "      <td>Transport-moving</td>\n",
              "      <td>Husband</td>\n",
              "      <td>Black</td>\n",
              "      <td>Male</td>\n",
              "      <td>0</td>\n",
              "      <td>0</td>\n",
              "      <td>40</td>\n",
              "      <td>United-States</td>\n",
              "      <td>&gt;50K</td>\n",
              "    </tr>\n",
              "    <tr>\n",
              "      <th>26050</th>\n",
              "      <td>19</td>\n",
              "      <td>?</td>\n",
              "      <td>141418</td>\n",
              "      <td>Some-college</td>\n",
              "      <td>10</td>\n",
              "      <td>Never-married</td>\n",
              "      <td>?</td>\n",
              "      <td>Own-child</td>\n",
              "      <td>White</td>\n",
              "      <td>Male</td>\n",
              "      <td>0</td>\n",
              "      <td>0</td>\n",
              "      <td>15</td>\n",
              "      <td>United-States</td>\n",
              "      <td>&lt;=50K</td>\n",
              "    </tr>\n",
              "    <tr>\n",
              "      <th>26051</th>\n",
              "      <td>19</td>\n",
              "      <td>Private</td>\n",
              "      <td>306225</td>\n",
              "      <td>HS-grad</td>\n",
              "      <td>9</td>\n",
              "      <td>Never-married</td>\n",
              "      <td>Handlers-cleaners</td>\n",
              "      <td>Own-child</td>\n",
              "      <td>White</td>\n",
              "      <td>Male</td>\n",
              "      <td>0</td>\n",
              "      <td>0</td>\n",
              "      <td>25</td>\n",
              "      <td>United-States</td>\n",
              "      <td>&lt;=50K</td>\n",
              "    </tr>\n",
              "    <tr>\n",
              "      <th>26052</th>\n",
              "      <td>35</td>\n",
              "      <td>Private</td>\n",
              "      <td>330664</td>\n",
              "      <td>HS-grad</td>\n",
              "      <td>9</td>\n",
              "      <td>Divorced</td>\n",
              "      <td>Transport-moving</td>\n",
              "      <td>Not-in-family</td>\n",
              "      <td>White</td>\n",
              "      <td>Male</td>\n",
              "      <td>0</td>\n",
              "      <td>0</td>\n",
              "      <td>40</td>\n",
              "      <td>United-States</td>\n",
              "      <td>&lt;=50K</td>\n",
              "    </tr>\n",
              "  </tbody>\n",
              "</table>\n",
              "</div>"
            ],
            "text/plain": [
              "       39 State-gov   77516     Bachelors  ...  0  40  United-States  <=50K\n",
              "26048  21  Private   216129  HS-grad       ...  0  35  United-States  <=50K\n",
              "26049  33  Private   189368  Some-college  ...  0  40  United-States  >50K \n",
              "26050  19  ?         141418  Some-college  ...  0  15  United-States  <=50K\n",
              "26051  19  Private   306225  HS-grad       ...  0  25  United-States  <=50K\n",
              "26052  35  Private   330664  HS-grad       ...  0  40  United-States  <=50K\n",
              "\n",
              "[5 rows x 15 columns]"
            ]
          },
          "metadata": {},
          "execution_count": 49
        }
      ]
    },
    {
      "cell_type": "code",
      "metadata": {
        "id": "z-dnFIG3Ul4f",
        "outputId": "5b69711b-4398-4553-d4a8-4a0b7e583c69",
        "colab": {
          "base_uri": "https://localhost:8080/"
        }
      },
      "source": [
        "print(eval_df.shape)"
      ],
      "execution_count": 7,
      "outputs": [
        {
          "output_type": "stream",
          "text": [
            "(6512, 15)\n"
          ],
          "name": "stdout"
        }
      ]
    },
    {
      "cell_type": "markdown",
      "metadata": {
        "id": "12_uIoIjr9lv"
      },
      "source": [
        "From these few columns, you can get a first impression of the data. You will notice that most are strings and integers. There are also columns that are mostly zeroes. In the next sections, you will see how to use TFDV to aggregate and process this information so you can inspect it more easily."
      ]
    },
    {
      "cell_type": "markdown",
      "metadata": {
        "id": "RExHLWtQUl4f"
      },
      "source": [
        "### Adding extra rows\n",
        "\n",
        "To demonstrate how TFDV can detect anomalies later, you will add a few extra rows to the evaluation dataset. These are either malformed or have values that will trigger certain alarms later in this notebook. The code to add these can be seen in the `add_extra_rows()` function of `util.py` found in your Jupyter workspace. You can look at it later and even modify it after you've completed the entire exercise. For now, let's just execute the function and add the rows that we've defined by default."
      ]
    },
    {
      "cell_type": "code",
      "metadata": {
        "id": "0HlQLH7EUl4g",
        "outputId": "1d595143-efd5-4a78-fda1-6a547464dc3b",
        "colab": {
          "base_uri": "https://localhost:8080/",
          "height": 368
        }
      },
      "source": [
        "# add extra rows\n",
        "eval_df = add_extra_rows(eval_df)\n",
        "\n",
        "# preview the added rows\n",
        "eval_df.tail(4)"
      ],
      "execution_count": 17,
      "outputs": [
        {
          "output_type": "execute_result",
          "data": {
            "text/html": [
              "<div>\n",
              "<style scoped>\n",
              "    .dataframe tbody tr th:only-of-type {\n",
              "        vertical-align: middle;\n",
              "    }\n",
              "\n",
              "    .dataframe tbody tr th {\n",
              "        vertical-align: top;\n",
              "    }\n",
              "\n",
              "    .dataframe thead th {\n",
              "        text-align: right;\n",
              "    }\n",
              "</style>\n",
              "<table border=\"1\" class=\"dataframe\">\n",
              "  <thead>\n",
              "    <tr style=\"text-align: right;\">\n",
              "      <th></th>\n",
              "      <th>39</th>\n",
              "      <th>State-gov</th>\n",
              "      <th>77516</th>\n",
              "      <th>Bachelors</th>\n",
              "      <th>13</th>\n",
              "      <th>Never-married</th>\n",
              "      <th>Adm-clerical</th>\n",
              "      <th>Not-in-family</th>\n",
              "      <th>White</th>\n",
              "      <th>Male</th>\n",
              "      <th>2174</th>\n",
              "      <th>0</th>\n",
              "      <th>40</th>\n",
              "      <th>United-States</th>\n",
              "      <th>&lt;=50K</th>\n",
              "      <th>age</th>\n",
              "      <th>fnlwgt</th>\n",
              "      <th>education</th>\n",
              "      <th>education-num</th>\n",
              "      <th>marital-status</th>\n",
              "      <th>occupation</th>\n",
              "      <th>relationship</th>\n",
              "      <th>race</th>\n",
              "      <th>sex</th>\n",
              "      <th>capital-gain</th>\n",
              "      <th>capital-loss</th>\n",
              "      <th>hours-per-week</th>\n",
              "      <th>native-country</th>\n",
              "      <th>label</th>\n",
              "      <th>workclass</th>\n",
              "    </tr>\n",
              "  </thead>\n",
              "  <tbody>\n",
              "    <tr>\n",
              "      <th>6512</th>\n",
              "      <td>NaN</td>\n",
              "      <td>NaN</td>\n",
              "      <td>NaN</td>\n",
              "      <td>NaN</td>\n",
              "      <td>NaN</td>\n",
              "      <td>NaN</td>\n",
              "      <td>NaN</td>\n",
              "      <td>NaN</td>\n",
              "      <td>NaN</td>\n",
              "      <td>NaN</td>\n",
              "      <td>NaN</td>\n",
              "      <td>NaN</td>\n",
              "      <td>NaN</td>\n",
              "      <td>NaN</td>\n",
              "      <td>NaN</td>\n",
              "      <td>46.0</td>\n",
              "      <td>257473.0</td>\n",
              "      <td>Bachelors</td>\n",
              "      <td>8.0</td>\n",
              "      <td>Married-civ-spouse</td>\n",
              "      <td>Plumber</td>\n",
              "      <td>Husband</td>\n",
              "      <td>Other</td>\n",
              "      <td>Male</td>\n",
              "      <td>1000.0</td>\n",
              "      <td>0.0</td>\n",
              "      <td>41.0</td>\n",
              "      <td>Australia</td>\n",
              "      <td>&gt;50K</td>\n",
              "      <td>NaN</td>\n",
              "    </tr>\n",
              "    <tr>\n",
              "      <th>6513</th>\n",
              "      <td>NaN</td>\n",
              "      <td>NaN</td>\n",
              "      <td>NaN</td>\n",
              "      <td>NaN</td>\n",
              "      <td>NaN</td>\n",
              "      <td>NaN</td>\n",
              "      <td>NaN</td>\n",
              "      <td>NaN</td>\n",
              "      <td>NaN</td>\n",
              "      <td>NaN</td>\n",
              "      <td>NaN</td>\n",
              "      <td>NaN</td>\n",
              "      <td>NaN</td>\n",
              "      <td>NaN</td>\n",
              "      <td>NaN</td>\n",
              "      <td>0.0</td>\n",
              "      <td>257473.0</td>\n",
              "      <td>Masters</td>\n",
              "      <td>8.0</td>\n",
              "      <td>Married-civ-spouse</td>\n",
              "      <td>Adm-clerical</td>\n",
              "      <td>Wife</td>\n",
              "      <td>Asian</td>\n",
              "      <td>Female</td>\n",
              "      <td>0.0</td>\n",
              "      <td>0.0</td>\n",
              "      <td>40.0</td>\n",
              "      <td>Pakistan</td>\n",
              "      <td>&gt;50K</td>\n",
              "      <td>Private</td>\n",
              "    </tr>\n",
              "    <tr>\n",
              "      <th>6514</th>\n",
              "      <td>NaN</td>\n",
              "      <td>NaN</td>\n",
              "      <td>NaN</td>\n",
              "      <td>NaN</td>\n",
              "      <td>NaN</td>\n",
              "      <td>NaN</td>\n",
              "      <td>NaN</td>\n",
              "      <td>NaN</td>\n",
              "      <td>NaN</td>\n",
              "      <td>NaN</td>\n",
              "      <td>NaN</td>\n",
              "      <td>NaN</td>\n",
              "      <td>NaN</td>\n",
              "      <td>NaN</td>\n",
              "      <td>NaN</td>\n",
              "      <td>1000.0</td>\n",
              "      <td>257473.0</td>\n",
              "      <td>Masters</td>\n",
              "      <td>8.0</td>\n",
              "      <td>Married-civ-spouse</td>\n",
              "      <td>Prof-specialty</td>\n",
              "      <td>Husband</td>\n",
              "      <td>Black</td>\n",
              "      <td>Male</td>\n",
              "      <td>0.0</td>\n",
              "      <td>0.0</td>\n",
              "      <td>20.0</td>\n",
              "      <td>Cameroon</td>\n",
              "      <td>&lt;=50K</td>\n",
              "      <td>Private</td>\n",
              "    </tr>\n",
              "    <tr>\n",
              "      <th>6515</th>\n",
              "      <td>NaN</td>\n",
              "      <td>NaN</td>\n",
              "      <td>NaN</td>\n",
              "      <td>NaN</td>\n",
              "      <td>NaN</td>\n",
              "      <td>NaN</td>\n",
              "      <td>NaN</td>\n",
              "      <td>NaN</td>\n",
              "      <td>NaN</td>\n",
              "      <td>NaN</td>\n",
              "      <td>NaN</td>\n",
              "      <td>NaN</td>\n",
              "      <td>NaN</td>\n",
              "      <td>NaN</td>\n",
              "      <td>NaN</td>\n",
              "      <td>25.0</td>\n",
              "      <td>257473.0</td>\n",
              "      <td>Masters</td>\n",
              "      <td>8.0</td>\n",
              "      <td>Married-civ-spouse</td>\n",
              "      <td>gamer</td>\n",
              "      <td>Husband</td>\n",
              "      <td>Asian</td>\n",
              "      <td>Female</td>\n",
              "      <td>0.0</td>\n",
              "      <td>0.0</td>\n",
              "      <td>50.0</td>\n",
              "      <td>Mongolia</td>\n",
              "      <td>&lt;=50K</td>\n",
              "      <td>?</td>\n",
              "    </tr>\n",
              "  </tbody>\n",
              "</table>\n",
              "</div>"
            ],
            "text/plain": [
              "      39 State-gov  77516  ... native-country  label workclass\n",
              "6512 NaN  NaN      NaN     ...  Australia      >50K   NaN     \n",
              "6513 NaN  NaN      NaN     ...  Pakistan       >50K   Private \n",
              "6514 NaN  NaN      NaN     ...  Cameroon       <=50K  Private \n",
              "6515 NaN  NaN      NaN     ...  Mongolia       <=50K  ?       \n",
              "\n",
              "[4 rows x 30 columns]"
            ]
          },
          "metadata": {},
          "execution_count": 17
        }
      ]
    },
    {
      "cell_type": "code",
      "metadata": {
        "id": "bD8DqOobEoW2",
        "outputId": "135522b9-982a-45ea-8feb-ce31ff17c7a3",
        "colab": {
          "base_uri": "https://localhost:8080/"
        }
      },
      "source": [
        "eval_df.columns"
      ],
      "execution_count": 36,
      "outputs": [
        {
          "output_type": "execute_result",
          "data": {
            "text/plain": [
              "Index(['39', 'State-gov', '77516', 'Bachelors', '13', 'Never-married',\n",
              "       'Adm-clerical', 'Not-in-family', 'White', 'Male', '2174', '0', '40',\n",
              "       'United-States', '<=50K', 'age', 'fnlwgt', 'education', 'education-num',\n",
              "       'marital-status', 'occupation', 'relationship', 'race', 'sex',\n",
              "       'capital-gain', 'capital-loss', 'hours-per-week', 'native-country',\n",
              "       'label', 'workclass'],\n",
              "      dtype='object')"
            ]
          },
          "metadata": {},
          "execution_count": 36
        }
      ]
    },
    {
      "cell_type": "markdown",
      "metadata": {
        "id": "Duwwrsvf_9bK"
      },
      "source": [
        "## Generate and visualize training dataset statistics"
      ]
    },
    {
      "cell_type": "markdown",
      "metadata": {
        "id": "5Nm5E1HAgPU0"
      },
      "source": [
        "You can now compute and visualize the statistics of your training dataset. TFDV accepts three input formats: TensorFlow’s TFRecord, Pandas Dataframe, and CSV file. In this exercise, you will feed in the Pandas Dataframes you generated from the train-test split. \n",
        "\n",
        "You can compute your dataset statistics by using the [`generate_statistics_from_dataframe()`](https://www.tensorflow.org/tfx/data_validation/api_docs/python/tfdv/generate_statistics_from_dataframe) method. Under the hood, it distributes the analysis via [Apache Beam](https://beam.apache.org/) which allows it to scale over large datasets.\n",
        "\n",
        "The results returned by this step for numerical and categorical data are summarized in this table:\n",
        "\n",
        "| Numerical Data | Categorical Data   |\n",
        "|:-:|:-:|\n",
        "|Count of data records|Count of data records\n",
        "|% of missing data records|% of missing data records|\n",
        "|Mean, std, min, max|unique records|\n",
        "|% of zero values|Avg string length|\n"
      ]
    },
    {
      "cell_type": "code",
      "metadata": {
        "id": "_vTx9Qkk4yGc"
      },
      "source": [
        "# Generate training dataset statistics\n",
        "train_stats = tfdv.generate_statistics_from_dataframe(train_df)"
      ],
      "execution_count": 27,
      "outputs": []
    },
    {
      "cell_type": "markdown",
      "metadata": {
        "id": "86nhDglwuilJ"
      },
      "source": [
        "Once you've generated the statistics, you can easily visualize your results with the [`visualize_statistics()`](https://www.tensorflow.org/tfx/data_validation/api_docs/python/tfdv/visualize_statistics) method. This shows a [Facets interface](https://pair-code.github.io/facets/) and is very useful to spot if you have a high amount of missing data or high standard deviation. Run the cell below and explore the different settings in the output interface (e.g. Sort by, Reverse order, Feature search)."
      ]
    },
    {
      "cell_type": "code",
      "metadata": {
        "id": "1D1wP3mm5ebW",
        "scrolled": true,
        "outputId": "35cb3a14-09db-4fb0-9a76-9d3ea502e1c7",
        "colab": {
          "base_uri": "https://localhost:8080/",
          "height": 1000
        }
      },
      "source": [
        "# Visualize training dataset statistics\n",
        "tfdv.visualize_statistics(train_stats)"
      ],
      "execution_count": 10,
      "outputs": [
        {
          "output_type": "display_data",
          "data": {
            "text/html": [
              "<iframe id='facets-iframe' width=\"100%\" height=\"500px\"></iframe>\n",
              "        <script>\n",
              "        facets_iframe = document.getElementById('facets-iframe');\n",
              "        facets_html = '<script src=\"https://cdnjs.cloudflare.com/ajax/libs/webcomponentsjs/1.3.3/webcomponents-lite.js\"><\\/script><link rel=\"import\" href=\"https://raw.githubusercontent.com/PAIR-code/facets/master/facets-dist/facets-jupyter.html\"><facets-overview proto-input=\"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\"></facets-overview>';\n",
              "        facets_iframe.srcdoc = facets_html;\n",
              "         facets_iframe.id = \"\";\n",
              "         setTimeout(() => {\n",
              "           facets_iframe.setAttribute('height', facets_iframe.contentWindow.document.body.offsetHeight + 'px')\n",
              "         }, 1500)\n",
              "         </script>"
            ],
            "text/plain": [
              "<IPython.core.display.HTML object>"
            ]
          },
          "metadata": {}
        }
      ]
    },
    {
      "cell_type": "markdown",
      "metadata": {
        "id": "DVQTOBpdgPU0"
      },
      "source": [
        "## Infer data schema"
      ]
    },
    {
      "cell_type": "markdown",
      "metadata": {
        "id": "Ya6ecHE9gPU1"
      },
      "source": [
        "Next step is to create a data schema to describe your train set. Simply put, a schema describes standard characteristics of your data such as column data types and expected data value range. The schema is created on a dataset that you consider as reference, and can be reused to validate other incoming datasets.\n",
        "\n",
        "With the computed statistics, TFDV allows you to automatically generate an initial version of the schema using the [`infer_schema()`](https://www.tensorflow.org/tfx/data_validation/api_docs/python/tfdv/infer_schema) method. This returns a Schema [protocol buffer](https://developers.google.com/protocol-buffers) containing the result. As mentioned in the [TFX paper](http://stevenwhang.com/tfx_paper.pdf) (Section 3.3), the results of the schema inference can be summarized as follows:\n",
        "\n",
        "* The expected type of each feature.\n",
        "* The expected presence of each feature, in terms of a minimum count and fraction of examples that must contain\n",
        "the feature.\n",
        "* The expected valency of the feature in each example, i.e.,\n",
        "minimum and maximum number of values.\n",
        "* The expected domain of a feature, i.e., the small universe of\n",
        "values for a string feature, or range for an integer feature.\n",
        "\n",
        "Run the cell below to infer the training dataset schema."
      ]
    },
    {
      "cell_type": "code",
      "metadata": {
        "id": "W9skjM-M44Jz",
        "outputId": "bd41bdc6-2e7b-4b2b-d28c-06a652de0e73",
        "colab": {
          "base_uri": "https://localhost:8080/",
          "height": 1000
        }
      },
      "source": [
        "# Infer schema from the computed statistics.\n",
        "schema = tfdv.infer_schema(statistics=train_stats)\n",
        "\n",
        "# Display the inferred schema\n",
        "tfdv.display_schema(schema)"
      ],
      "execution_count": 28,
      "outputs": [
        {
          "output_type": "display_data",
          "data": {
            "text/html": [
              "<div>\n",
              "<style scoped>\n",
              "    .dataframe tbody tr th:only-of-type {\n",
              "        vertical-align: middle;\n",
              "    }\n",
              "\n",
              "    .dataframe tbody tr th {\n",
              "        vertical-align: top;\n",
              "    }\n",
              "\n",
              "    .dataframe thead th {\n",
              "        text-align: right;\n",
              "    }\n",
              "</style>\n",
              "<table border=\"1\" class=\"dataframe\">\n",
              "  <thead>\n",
              "    <tr style=\"text-align: right;\">\n",
              "      <th></th>\n",
              "      <th>Type</th>\n",
              "      <th>Presence</th>\n",
              "      <th>Valency</th>\n",
              "      <th>Domain</th>\n",
              "    </tr>\n",
              "    <tr>\n",
              "      <th>Feature name</th>\n",
              "      <th></th>\n",
              "      <th></th>\n",
              "      <th></th>\n",
              "      <th></th>\n",
              "    </tr>\n",
              "  </thead>\n",
              "  <tbody>\n",
              "    <tr>\n",
              "      <th>'39'</th>\n",
              "      <td>INT</td>\n",
              "      <td>required</td>\n",
              "      <td></td>\n",
              "      <td>-</td>\n",
              "    </tr>\n",
              "    <tr>\n",
              "      <th>'State-gov'</th>\n",
              "      <td>STRING</td>\n",
              "      <td>required</td>\n",
              "      <td></td>\n",
              "      <td>'State-gov'</td>\n",
              "    </tr>\n",
              "    <tr>\n",
              "      <th>'77516'</th>\n",
              "      <td>INT</td>\n",
              "      <td>required</td>\n",
              "      <td></td>\n",
              "      <td>-</td>\n",
              "    </tr>\n",
              "    <tr>\n",
              "      <th>'Bachelors'</th>\n",
              "      <td>STRING</td>\n",
              "      <td>required</td>\n",
              "      <td></td>\n",
              "      <td>'Bachelors'</td>\n",
              "    </tr>\n",
              "    <tr>\n",
              "      <th>'13'</th>\n",
              "      <td>INT</td>\n",
              "      <td>required</td>\n",
              "      <td></td>\n",
              "      <td>-</td>\n",
              "    </tr>\n",
              "    <tr>\n",
              "      <th>'Never-married'</th>\n",
              "      <td>STRING</td>\n",
              "      <td>required</td>\n",
              "      <td></td>\n",
              "      <td>'Never-married'</td>\n",
              "    </tr>\n",
              "    <tr>\n",
              "      <th>'Adm-clerical'</th>\n",
              "      <td>STRING</td>\n",
              "      <td>required</td>\n",
              "      <td></td>\n",
              "      <td>'Adm-clerical'</td>\n",
              "    </tr>\n",
              "    <tr>\n",
              "      <th>'Not-in-family'</th>\n",
              "      <td>STRING</td>\n",
              "      <td>required</td>\n",
              "      <td></td>\n",
              "      <td>'Not-in-family'</td>\n",
              "    </tr>\n",
              "    <tr>\n",
              "      <th>'White'</th>\n",
              "      <td>STRING</td>\n",
              "      <td>required</td>\n",
              "      <td></td>\n",
              "      <td>'White'</td>\n",
              "    </tr>\n",
              "    <tr>\n",
              "      <th>'Male'</th>\n",
              "      <td>STRING</td>\n",
              "      <td>required</td>\n",
              "      <td></td>\n",
              "      <td>'Male'</td>\n",
              "    </tr>\n",
              "    <tr>\n",
              "      <th>'2174'</th>\n",
              "      <td>INT</td>\n",
              "      <td>required</td>\n",
              "      <td></td>\n",
              "      <td>-</td>\n",
              "    </tr>\n",
              "    <tr>\n",
              "      <th>'0'</th>\n",
              "      <td>INT</td>\n",
              "      <td>required</td>\n",
              "      <td></td>\n",
              "      <td>-</td>\n",
              "    </tr>\n",
              "    <tr>\n",
              "      <th>'40'</th>\n",
              "      <td>INT</td>\n",
              "      <td>required</td>\n",
              "      <td></td>\n",
              "      <td>-</td>\n",
              "    </tr>\n",
              "    <tr>\n",
              "      <th>'United-States'</th>\n",
              "      <td>STRING</td>\n",
              "      <td>required</td>\n",
              "      <td></td>\n",
              "      <td>'United-States'</td>\n",
              "    </tr>\n",
              "    <tr>\n",
              "      <th>'&lt;=50K'</th>\n",
              "      <td>STRING</td>\n",
              "      <td>required</td>\n",
              "      <td></td>\n",
              "      <td>'&lt;=50K'</td>\n",
              "    </tr>\n",
              "  </tbody>\n",
              "</table>\n",
              "</div>"
            ],
            "text/plain": [
              "                   Type  Presence Valency           Domain\n",
              "Feature name                                              \n",
              "'39'             INT     required          -              \n",
              "'State-gov'      STRING  required          'State-gov'    \n",
              "'77516'          INT     required          -              \n",
              "'Bachelors'      STRING  required          'Bachelors'    \n",
              "'13'             INT     required          -              \n",
              "'Never-married'  STRING  required          'Never-married'\n",
              "'Adm-clerical'   STRING  required          'Adm-clerical' \n",
              "'Not-in-family'  STRING  required          'Not-in-family'\n",
              "'White'          STRING  required          'White'        \n",
              "'Male'           STRING  required          'Male'         \n",
              "'2174'           INT     required          -              \n",
              "'0'              INT     required          -              \n",
              "'40'             INT     required          -              \n",
              "'United-States'  STRING  required          'United-States'\n",
              "'<=50K'          STRING  required          '<=50K'        "
            ]
          },
          "metadata": {}
        },
        {
          "output_type": "stream",
          "text": [
            "/usr/local/lib/python3.7/dist-packages/tensorflow_data_validation/utils/display_util.py:180: FutureWarning: Passing a negative integer is deprecated in version 1.0 and will not be supported in future version. Instead, use None to not limit the column width.\n",
            "  pd.set_option('max_colwidth', -1)\n"
          ],
          "name": "stderr"
        },
        {
          "output_type": "display_data",
          "data": {
            "text/html": [
              "<div>\n",
              "<style scoped>\n",
              "    .dataframe tbody tr th:only-of-type {\n",
              "        vertical-align: middle;\n",
              "    }\n",
              "\n",
              "    .dataframe tbody tr th {\n",
              "        vertical-align: top;\n",
              "    }\n",
              "\n",
              "    .dataframe thead th {\n",
              "        text-align: right;\n",
              "    }\n",
              "</style>\n",
              "<table border=\"1\" class=\"dataframe\">\n",
              "  <thead>\n",
              "    <tr style=\"text-align: right;\">\n",
              "      <th></th>\n",
              "      <th>Values</th>\n",
              "    </tr>\n",
              "    <tr>\n",
              "      <th>Domain</th>\n",
              "      <th></th>\n",
              "    </tr>\n",
              "  </thead>\n",
              "  <tbody>\n",
              "    <tr>\n",
              "      <th>'State-gov'</th>\n",
              "      <td>'?', 'Federal-gov', 'Local-gov', 'Never-worked', 'Private', 'Self-emp-inc', 'Self-emp-not-inc', 'State-gov', 'Without-pay'</td>\n",
              "    </tr>\n",
              "    <tr>\n",
              "      <th>'Bachelors'</th>\n",
              "      <td>'10th', '11th', '12th', '1st-4th', '5th-6th', '7th-8th', '9th', 'Assoc-acdm', 'Assoc-voc', 'Bachelors', 'Doctorate', 'HS-grad', 'Masters', 'Preschool', 'Prof-school', 'Some-college'</td>\n",
              "    </tr>\n",
              "    <tr>\n",
              "      <th>'Never-married'</th>\n",
              "      <td>'Divorced', 'Married-AF-spouse', 'Married-civ-spouse', 'Married-spouse-absent', 'Never-married', 'Separated', 'Widowed'</td>\n",
              "    </tr>\n",
              "    <tr>\n",
              "      <th>'Adm-clerical'</th>\n",
              "      <td>'?', 'Adm-clerical', 'Armed-Forces', 'Craft-repair', 'Exec-managerial', 'Farming-fishing', 'Handlers-cleaners', 'Machine-op-inspct', 'Other-service', 'Priv-house-serv', 'Prof-specialty', 'Protective-serv', 'Sales', 'Tech-support', 'Transport-moving'</td>\n",
              "    </tr>\n",
              "    <tr>\n",
              "      <th>'Not-in-family'</th>\n",
              "      <td>'Husband', 'Not-in-family', 'Other-relative', 'Own-child', 'Unmarried', 'Wife'</td>\n",
              "    </tr>\n",
              "    <tr>\n",
              "      <th>'White'</th>\n",
              "      <td>'Amer-Indian-Eskimo', 'Asian-Pac-Islander', 'Black', 'Other', 'White'</td>\n",
              "    </tr>\n",
              "    <tr>\n",
              "      <th>'Male'</th>\n",
              "      <td>'Female', 'Male'</td>\n",
              "    </tr>\n",
              "    <tr>\n",
              "      <th>'United-States'</th>\n",
              "      <td>'?', 'Cambodia', 'Canada', 'China', 'Columbia', 'Cuba', 'Dominican-Republic', 'Ecuador', 'El-Salvador', 'England', 'France', 'Germany', 'Greece', 'Guatemala', 'Haiti', 'Holand-Netherlands', 'Honduras', 'Hong', 'Hungary', 'India', 'Iran', 'Ireland', 'Italy', 'Jamaica', 'Japan', 'Laos', 'Mexico', 'Nicaragua', 'Outlying-US(Guam-USVI-etc)', 'Peru', 'Philippines', 'Poland', 'Portugal', 'Puerto-Rico', 'Scotland', 'South', 'Taiwan', 'Thailand', 'Trinadad&amp;Tobago', 'United-States', 'Vietnam', 'Yugoslavia'</td>\n",
              "    </tr>\n",
              "    <tr>\n",
              "      <th>'&lt;=50K'</th>\n",
              "      <td>'&lt;=50K', '&gt;50K'</td>\n",
              "    </tr>\n",
              "  </tbody>\n",
              "</table>\n",
              "</div>"
            ],
            "text/plain": [
              "                                                                                                                                                                                                                                                                                                                                                                                                                                                                                                                                Values\n",
              "Domain                                                                                                                                                                                                                                                                                                                                                                                                                                                                                                                                \n",
              "'State-gov'      '?', 'Federal-gov', 'Local-gov', 'Never-worked', 'Private', 'Self-emp-inc', 'Self-emp-not-inc', 'State-gov', 'Without-pay'                                                                                                                                                                                                                                                                                                                                                                                           \n",
              "'Bachelors'      '10th', '11th', '12th', '1st-4th', '5th-6th', '7th-8th', '9th', 'Assoc-acdm', 'Assoc-voc', 'Bachelors', 'Doctorate', 'HS-grad', 'Masters', 'Preschool', 'Prof-school', 'Some-college'                                                                                                                                                                                                                                                                                                                                \n",
              "'Never-married'  'Divorced', 'Married-AF-spouse', 'Married-civ-spouse', 'Married-spouse-absent', 'Never-married', 'Separated', 'Widowed'                                                                                                                                                                                                                                                                                                                                                                                              \n",
              "'Adm-clerical'   '?', 'Adm-clerical', 'Armed-Forces', 'Craft-repair', 'Exec-managerial', 'Farming-fishing', 'Handlers-cleaners', 'Machine-op-inspct', 'Other-service', 'Priv-house-serv', 'Prof-specialty', 'Protective-serv', 'Sales', 'Tech-support', 'Transport-moving'                                                                                                                                                                                                                                                            \n",
              "'Not-in-family'  'Husband', 'Not-in-family', 'Other-relative', 'Own-child', 'Unmarried', 'Wife'                                                                                                                                                                                                                                                                                                                                                                                                                                       \n",
              "'White'          'Amer-Indian-Eskimo', 'Asian-Pac-Islander', 'Black', 'Other', 'White'                                                                                                                                                                                                                                                                                                                                                                                                                                                \n",
              "'Male'           'Female', 'Male'                                                                                                                                                                                                                                                                                                                                                                                                                                                                                                     \n",
              "'United-States'  '?', 'Cambodia', 'Canada', 'China', 'Columbia', 'Cuba', 'Dominican-Republic', 'Ecuador', 'El-Salvador', 'England', 'France', 'Germany', 'Greece', 'Guatemala', 'Haiti', 'Holand-Netherlands', 'Honduras', 'Hong', 'Hungary', 'India', 'Iran', 'Ireland', 'Italy', 'Jamaica', 'Japan', 'Laos', 'Mexico', 'Nicaragua', 'Outlying-US(Guam-USVI-etc)', 'Peru', 'Philippines', 'Poland', 'Portugal', 'Puerto-Rico', 'Scotland', 'South', 'Taiwan', 'Thailand', 'Trinadad&Tobago', 'United-States', 'Vietnam', 'Yugoslavia'\n",
              "'<=50K'          '<=50K', '>50K'                                                                                                                                                                                                                                                                                                                                                                                                                                                                                                      "
            ]
          },
          "metadata": {}
        }
      ]
    },
    {
      "cell_type": "markdown",
      "metadata": {
        "id": "5oj_GIprgPU1"
      },
      "source": [
        "## Generate and visualize evaluation dataset statistics"
      ]
    },
    {
      "cell_type": "markdown",
      "metadata": {
        "id": "rTYMPukogPU1"
      },
      "source": [
        "The next step after generating the schema is to now look at the evaluation dataset. You will begin by computing its statistics then compare it with the training statistics. It is important that the numerical and categorical features of the evaluation data belongs roughly to the same range as the training data. Otherwise, you might have distribution skew that will negatively affect the accuracy of your model.\n",
        "\n",
        "TFDV allows you to generate both the training and evaluation dataset statistics side-by-side. You can use the [`visualize_statistics()`](https://www.tensorflow.org/tfx/data_validation/api_docs/python/tfdv/visualize_statistics) function and pass additional parameters to overlay the statistics from both datasets (referenced as left-hand side and right-hand side statistics). Let's see what these parameters are:\n",
        "\n",
        "- `lhs_statistics`: Required parameter. Expects an instance of `DatasetFeatureStatisticsList `.\n",
        "\n",
        "\n",
        "- `rhs_statistics`: Expects an instance of `DatasetFeatureStatisticsList ` to compare with `lhs_statistics`.\n",
        "\n",
        "\n",
        "- `lhs_name`: Name of the `lhs_statistics` dataset.\n",
        "\n",
        "\n",
        "- `rhs_name`: Name of the `rhs_statistics` dataset."
      ]
    },
    {
      "cell_type": "code",
      "metadata": {
        "id": "bzZy1x3c6Mi0",
        "scrolled": true,
        "outputId": "2bfec27c-de55-454f-e6d0-68ce0d9a635c",
        "colab": {
          "base_uri": "https://localhost:8080/",
          "height": 1000
        }
      },
      "source": [
        "# Generate evaluation dataset statistics\n",
        "eval_stats = tfdv.generate_statistics_from_dataframe(eval_df)\n",
        "\n",
        "# Compare training with evaluation\n",
        "tfdv.visualize_statistics(\n",
        "    lhs_statistics=eval_stats, \n",
        "    rhs_statistics=train_stats, \n",
        "    lhs_name='EVAL_DATASET', \n",
        "    rhs_name='TRAIN_DATASET'\n",
        ")"
      ],
      "execution_count": 20,
      "outputs": [
        {
          "output_type": "display_data",
          "data": {
            "text/html": [
              "<iframe id='facets-iframe' width=\"100%\" height=\"500px\"></iframe>\n",
              "        <script>\n",
              "        facets_iframe = document.getElementById('facets-iframe');\n",
              "        facets_html = '<script src=\"https://cdnjs.cloudflare.com/ajax/libs/webcomponentsjs/1.3.3/webcomponents-lite.js\"><\\/script><link rel=\"import\" href=\"https://raw.githubusercontent.com/PAIR-code/facets/master/facets-dist/facets-jupyter.html\"><facets-overview proto-input=\"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\"></facets-overview>';\n",
              "        facets_iframe.srcdoc = facets_html;\n",
              "         facets_iframe.id = \"\";\n",
              "         setTimeout(() => {\n",
              "           facets_iframe.setAttribute('height', facets_iframe.contentWindow.document.body.offsetHeight + 'px')\n",
              "         }, 1500)\n",
              "         </script>"
            ],
            "text/plain": [
              "<IPython.core.display.HTML object>"
            ]
          },
          "metadata": {}
        }
      ]
    },
    {
      "cell_type": "markdown",
      "metadata": {
        "id": "GODDgoHdgPU2"
      },
      "source": [
        "We encourage you to observe the results generated and toggle the menus to practice manipulating the visualization (e.g. sort by missing/zeroes). You'll notice that TFDV detects the malformed rows we introduced earlier. First, the `min` and `max` values of the `age` row shows `0` and `1000`, respectively. We know that those values do not make sense if we're talking about working adults. Secondly, the `workclass` row in the Categorical Features says that `0.02%` of the data is missing that particular attribute. Let's drop these rows to make the data more clean."
      ]
    },
    {
      "cell_type": "code",
      "metadata": {
        "id": "FMYfPYj6CWOO",
        "outputId": "31804f9f-81f2-45cd-b5aa-c9fbcd42d568",
        "colab": {
          "base_uri": "https://localhost:8080/"
        }
      },
      "source": [
        "#train_df.dropna(inplace=True)\n",
        "train_df.columns"
      ],
      "execution_count": 34,
      "outputs": [
        {
          "output_type": "execute_result",
          "data": {
            "text/plain": [
              "Index(['39', 'State-gov', '77516', 'Bachelors', '13', 'Never-married',\n",
              "       'Adm-clerical', 'Not-in-family', 'White', 'Male', '2174', '0', '40',\n",
              "       'United-States', '<=50K'],\n",
              "      dtype='object')"
            ]
          },
          "metadata": {},
          "execution_count": 34
        }
      ]
    },
    {
      "cell_type": "code",
      "metadata": {
        "id": "8sjhrhaIEOyI",
        "outputId": "703204ee-91df-485e-d68f-dcf57c6b66d5",
        "colab": {
          "base_uri": "https://localhost:8080/",
          "height": 143
        }
      },
      "source": [
        "train_df.head(3)"
      ],
      "execution_count": 35,
      "outputs": [
        {
          "output_type": "execute_result",
          "data": {
            "text/html": [
              "<div>\n",
              "<style scoped>\n",
              "    .dataframe tbody tr th:only-of-type {\n",
              "        vertical-align: middle;\n",
              "    }\n",
              "\n",
              "    .dataframe tbody tr th {\n",
              "        vertical-align: top;\n",
              "    }\n",
              "\n",
              "    .dataframe thead th {\n",
              "        text-align: right;\n",
              "    }\n",
              "</style>\n",
              "<table border=\"1\" class=\"dataframe\">\n",
              "  <thead>\n",
              "    <tr style=\"text-align: right;\">\n",
              "      <th></th>\n",
              "      <th>39</th>\n",
              "      <th>State-gov</th>\n",
              "      <th>77516</th>\n",
              "      <th>Bachelors</th>\n",
              "      <th>13</th>\n",
              "      <th>Never-married</th>\n",
              "      <th>Adm-clerical</th>\n",
              "      <th>Not-in-family</th>\n",
              "      <th>White</th>\n",
              "      <th>Male</th>\n",
              "      <th>2174</th>\n",
              "      <th>0</th>\n",
              "      <th>40</th>\n",
              "      <th>United-States</th>\n",
              "      <th>&lt;=50K</th>\n",
              "    </tr>\n",
              "  </thead>\n",
              "  <tbody>\n",
              "    <tr>\n",
              "      <th>0</th>\n",
              "      <td>50</td>\n",
              "      <td>Self-emp-not-inc</td>\n",
              "      <td>83311</td>\n",
              "      <td>Bachelors</td>\n",
              "      <td>13</td>\n",
              "      <td>Married-civ-spouse</td>\n",
              "      <td>Exec-managerial</td>\n",
              "      <td>Husband</td>\n",
              "      <td>White</td>\n",
              "      <td>Male</td>\n",
              "      <td>0</td>\n",
              "      <td>0</td>\n",
              "      <td>13</td>\n",
              "      <td>United-States</td>\n",
              "      <td>&lt;=50K</td>\n",
              "    </tr>\n",
              "    <tr>\n",
              "      <th>1</th>\n",
              "      <td>38</td>\n",
              "      <td>Private</td>\n",
              "      <td>215646</td>\n",
              "      <td>HS-grad</td>\n",
              "      <td>9</td>\n",
              "      <td>Divorced</td>\n",
              "      <td>Handlers-cleaners</td>\n",
              "      <td>Not-in-family</td>\n",
              "      <td>White</td>\n",
              "      <td>Male</td>\n",
              "      <td>0</td>\n",
              "      <td>0</td>\n",
              "      <td>40</td>\n",
              "      <td>United-States</td>\n",
              "      <td>&lt;=50K</td>\n",
              "    </tr>\n",
              "    <tr>\n",
              "      <th>2</th>\n",
              "      <td>53</td>\n",
              "      <td>Private</td>\n",
              "      <td>234721</td>\n",
              "      <td>11th</td>\n",
              "      <td>7</td>\n",
              "      <td>Married-civ-spouse</td>\n",
              "      <td>Handlers-cleaners</td>\n",
              "      <td>Husband</td>\n",
              "      <td>Black</td>\n",
              "      <td>Male</td>\n",
              "      <td>0</td>\n",
              "      <td>0</td>\n",
              "      <td>40</td>\n",
              "      <td>United-States</td>\n",
              "      <td>&lt;=50K</td>\n",
              "    </tr>\n",
              "  </tbody>\n",
              "</table>\n",
              "</div>"
            ],
            "text/plain": [
              "   39         State-gov   77516  Bachelors  ...  0  40  United-States  <=50K\n",
              "0  50  Self-emp-not-inc  83311   Bachelors  ...  0  13  United-States  <=50K\n",
              "1  38  Private           215646  HS-grad    ...  0  40  United-States  <=50K\n",
              "2  53  Private           234721  11th       ...  0  40  United-States  <=50K\n",
              "\n",
              "[3 rows x 15 columns]"
            ]
          },
          "metadata": {},
          "execution_count": 35
        }
      ]
    },
    {
      "cell_type": "code",
      "metadata": {
        "id": "ApXmjsNPUl4j"
      },
      "source": [
        "# filter the age range\n",
        "eval_df = eval_df[eval_df['age'] > 16]\n",
        "eval_df = eval_df[eval_df['age'] < 91]\n",
        "\n",
        "# drop missing values\n",
        "eval_df.dropna(inplace=True)"
      ],
      "execution_count": 41,
      "outputs": []
    },
    {
      "cell_type": "markdown",
      "metadata": {
        "id": "4YTlL6I5Ul4j"
      },
      "source": [
        "You can then compute the statistics again and see the difference in the results."
      ]
    },
    {
      "cell_type": "code",
      "metadata": {
        "id": "Syk95zT4Ul4j",
        "outputId": "d2941ef5-504c-4788-b869-0b1fd8f8ff99",
        "colab": {
          "base_uri": "https://localhost:8080/",
          "height": 1000
        }
      },
      "source": [
        "# Generate evaluation dataset statistics\n",
        "eval_stats = tfdv.generate_statistics_from_dataframe(eval_df)\n",
        "\n",
        "# Compare training with evaluation\n",
        "tfdv.visualize_statistics(\n",
        "    lhs_statistics=eval_stats, \n",
        "    rhs_statistics=train_stats, \n",
        "    lhs_name='EVAL_DATASET', \n",
        "    rhs_name='TRAIN_DATASET'\n",
        ")"
      ],
      "execution_count": 42,
      "outputs": [
        {
          "output_type": "display_data",
          "data": {
            "text/html": [
              "<iframe id='facets-iframe' width=\"100%\" height=\"500px\"></iframe>\n",
              "        <script>\n",
              "        facets_iframe = document.getElementById('facets-iframe');\n",
              "        facets_html = '<script src=\"https://cdnjs.cloudflare.com/ajax/libs/webcomponentsjs/1.3.3/webcomponents-lite.js\"><\\/script><link rel=\"import\" href=\"https://raw.githubusercontent.com/PAIR-code/facets/master/facets-dist/facets-jupyter.html\"><facets-overview proto-input=\"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\"></facets-overview>';\n",
              "        facets_iframe.srcdoc = facets_html;\n",
              "         facets_iframe.id = \"\";\n",
              "         setTimeout(() => {\n",
              "           facets_iframe.setAttribute('height', facets_iframe.contentWindow.document.body.offsetHeight + 'px')\n",
              "         }, 1500)\n",
              "         </script>"
            ],
            "text/plain": [
              "<IPython.core.display.HTML object>"
            ]
          },
          "metadata": {}
        }
      ]
    },
    {
      "cell_type": "code",
      "metadata": {
        "id": "SJmay4Al_zW6",
        "outputId": "ec92a895-a403-4b51-e9d1-8402fc1f1486",
        "colab": {
          "base_uri": "https://localhost:8080/",
          "height": 1000
        }
      },
      "source": [
        "#Creating schema2 to include the new features from eval_stats\n",
        "schema2 = tfdv.infer_schema(statistics=eval_stats)\n",
        "tfdv.display_schema(schema2)"
      ],
      "execution_count": 43,
      "outputs": [
        {
          "output_type": "display_data",
          "data": {
            "text/html": [
              "<div>\n",
              "<style scoped>\n",
              "    .dataframe tbody tr th:only-of-type {\n",
              "        vertical-align: middle;\n",
              "    }\n",
              "\n",
              "    .dataframe tbody tr th {\n",
              "        vertical-align: top;\n",
              "    }\n",
              "\n",
              "    .dataframe thead th {\n",
              "        text-align: right;\n",
              "    }\n",
              "</style>\n",
              "<table border=\"1\" class=\"dataframe\">\n",
              "  <thead>\n",
              "    <tr style=\"text-align: right;\">\n",
              "      <th></th>\n",
              "      <th>Type</th>\n",
              "      <th>Presence</th>\n",
              "      <th>Valency</th>\n",
              "      <th>Domain</th>\n",
              "    </tr>\n",
              "    <tr>\n",
              "      <th>Feature name</th>\n",
              "      <th></th>\n",
              "      <th></th>\n",
              "      <th></th>\n",
              "      <th></th>\n",
              "    </tr>\n",
              "  </thead>\n",
              "  <tbody>\n",
              "    <tr>\n",
              "      <th>'39'</th>\n",
              "      <td>FLOAT</td>\n",
              "      <td>optional</td>\n",
              "      <td></td>\n",
              "      <td>-</td>\n",
              "    </tr>\n",
              "    <tr>\n",
              "      <th>'State-gov'</th>\n",
              "      <td>BYTES</td>\n",
              "      <td>optional</td>\n",
              "      <td></td>\n",
              "      <td>-</td>\n",
              "    </tr>\n",
              "    <tr>\n",
              "      <th>'77516'</th>\n",
              "      <td>FLOAT</td>\n",
              "      <td>optional</td>\n",
              "      <td></td>\n",
              "      <td>-</td>\n",
              "    </tr>\n",
              "    <tr>\n",
              "      <th>'Bachelors'</th>\n",
              "      <td>BYTES</td>\n",
              "      <td>optional</td>\n",
              "      <td></td>\n",
              "      <td>-</td>\n",
              "    </tr>\n",
              "    <tr>\n",
              "      <th>'13'</th>\n",
              "      <td>FLOAT</td>\n",
              "      <td>optional</td>\n",
              "      <td></td>\n",
              "      <td>-</td>\n",
              "    </tr>\n",
              "    <tr>\n",
              "      <th>'Never-married'</th>\n",
              "      <td>BYTES</td>\n",
              "      <td>optional</td>\n",
              "      <td></td>\n",
              "      <td>-</td>\n",
              "    </tr>\n",
              "    <tr>\n",
              "      <th>'Adm-clerical'</th>\n",
              "      <td>BYTES</td>\n",
              "      <td>optional</td>\n",
              "      <td></td>\n",
              "      <td>-</td>\n",
              "    </tr>\n",
              "    <tr>\n",
              "      <th>'Not-in-family'</th>\n",
              "      <td>BYTES</td>\n",
              "      <td>optional</td>\n",
              "      <td></td>\n",
              "      <td>-</td>\n",
              "    </tr>\n",
              "    <tr>\n",
              "      <th>'White'</th>\n",
              "      <td>BYTES</td>\n",
              "      <td>optional</td>\n",
              "      <td></td>\n",
              "      <td>-</td>\n",
              "    </tr>\n",
              "    <tr>\n",
              "      <th>'Male'</th>\n",
              "      <td>BYTES</td>\n",
              "      <td>optional</td>\n",
              "      <td></td>\n",
              "      <td>-</td>\n",
              "    </tr>\n",
              "    <tr>\n",
              "      <th>'2174'</th>\n",
              "      <td>FLOAT</td>\n",
              "      <td>optional</td>\n",
              "      <td></td>\n",
              "      <td>-</td>\n",
              "    </tr>\n",
              "    <tr>\n",
              "      <th>'0'</th>\n",
              "      <td>FLOAT</td>\n",
              "      <td>optional</td>\n",
              "      <td></td>\n",
              "      <td>-</td>\n",
              "    </tr>\n",
              "    <tr>\n",
              "      <th>'40'</th>\n",
              "      <td>FLOAT</td>\n",
              "      <td>optional</td>\n",
              "      <td></td>\n",
              "      <td>-</td>\n",
              "    </tr>\n",
              "    <tr>\n",
              "      <th>'United-States'</th>\n",
              "      <td>BYTES</td>\n",
              "      <td>optional</td>\n",
              "      <td></td>\n",
              "      <td>-</td>\n",
              "    </tr>\n",
              "    <tr>\n",
              "      <th>'&lt;=50K'</th>\n",
              "      <td>BYTES</td>\n",
              "      <td>optional</td>\n",
              "      <td></td>\n",
              "      <td>-</td>\n",
              "    </tr>\n",
              "    <tr>\n",
              "      <th>'age'</th>\n",
              "      <td>FLOAT</td>\n",
              "      <td>optional</td>\n",
              "      <td></td>\n",
              "      <td>-</td>\n",
              "    </tr>\n",
              "    <tr>\n",
              "      <th>'fnlwgt'</th>\n",
              "      <td>FLOAT</td>\n",
              "      <td>optional</td>\n",
              "      <td></td>\n",
              "      <td>-</td>\n",
              "    </tr>\n",
              "    <tr>\n",
              "      <th>'education'</th>\n",
              "      <td>BYTES</td>\n",
              "      <td>optional</td>\n",
              "      <td></td>\n",
              "      <td>-</td>\n",
              "    </tr>\n",
              "    <tr>\n",
              "      <th>'education-num'</th>\n",
              "      <td>FLOAT</td>\n",
              "      <td>optional</td>\n",
              "      <td></td>\n",
              "      <td>-</td>\n",
              "    </tr>\n",
              "    <tr>\n",
              "      <th>'marital-status'</th>\n",
              "      <td>BYTES</td>\n",
              "      <td>optional</td>\n",
              "      <td></td>\n",
              "      <td>-</td>\n",
              "    </tr>\n",
              "    <tr>\n",
              "      <th>'occupation'</th>\n",
              "      <td>BYTES</td>\n",
              "      <td>optional</td>\n",
              "      <td></td>\n",
              "      <td>-</td>\n",
              "    </tr>\n",
              "    <tr>\n",
              "      <th>'relationship'</th>\n",
              "      <td>BYTES</td>\n",
              "      <td>optional</td>\n",
              "      <td></td>\n",
              "      <td>-</td>\n",
              "    </tr>\n",
              "    <tr>\n",
              "      <th>'race'</th>\n",
              "      <td>BYTES</td>\n",
              "      <td>optional</td>\n",
              "      <td></td>\n",
              "      <td>-</td>\n",
              "    </tr>\n",
              "    <tr>\n",
              "      <th>'sex'</th>\n",
              "      <td>BYTES</td>\n",
              "      <td>optional</td>\n",
              "      <td></td>\n",
              "      <td>-</td>\n",
              "    </tr>\n",
              "    <tr>\n",
              "      <th>'capital-gain'</th>\n",
              "      <td>FLOAT</td>\n",
              "      <td>optional</td>\n",
              "      <td></td>\n",
              "      <td>-</td>\n",
              "    </tr>\n",
              "    <tr>\n",
              "      <th>'capital-loss'</th>\n",
              "      <td>FLOAT</td>\n",
              "      <td>optional</td>\n",
              "      <td></td>\n",
              "      <td>-</td>\n",
              "    </tr>\n",
              "    <tr>\n",
              "      <th>'hours-per-week'</th>\n",
              "      <td>FLOAT</td>\n",
              "      <td>optional</td>\n",
              "      <td></td>\n",
              "      <td>-</td>\n",
              "    </tr>\n",
              "    <tr>\n",
              "      <th>'native-country'</th>\n",
              "      <td>BYTES</td>\n",
              "      <td>optional</td>\n",
              "      <td></td>\n",
              "      <td>-</td>\n",
              "    </tr>\n",
              "    <tr>\n",
              "      <th>'label'</th>\n",
              "      <td>BYTES</td>\n",
              "      <td>optional</td>\n",
              "      <td></td>\n",
              "      <td>-</td>\n",
              "    </tr>\n",
              "    <tr>\n",
              "      <th>'workclass'</th>\n",
              "      <td>BYTES</td>\n",
              "      <td>optional</td>\n",
              "      <td></td>\n",
              "      <td>-</td>\n",
              "    </tr>\n",
              "  </tbody>\n",
              "</table>\n",
              "</div>"
            ],
            "text/plain": [
              "                   Type  Presence Valency Domain\n",
              "Feature name                                    \n",
              "'39'              FLOAT  optional          -    \n",
              "'State-gov'       BYTES  optional          -    \n",
              "'77516'           FLOAT  optional          -    \n",
              "'Bachelors'       BYTES  optional          -    \n",
              "'13'              FLOAT  optional          -    \n",
              "'Never-married'   BYTES  optional          -    \n",
              "'Adm-clerical'    BYTES  optional          -    \n",
              "'Not-in-family'   BYTES  optional          -    \n",
              "'White'           BYTES  optional          -    \n",
              "'Male'            BYTES  optional          -    \n",
              "'2174'            FLOAT  optional          -    \n",
              "'0'               FLOAT  optional          -    \n",
              "'40'              FLOAT  optional          -    \n",
              "'United-States'   BYTES  optional          -    \n",
              "'<=50K'           BYTES  optional          -    \n",
              "'age'             FLOAT  optional          -    \n",
              "'fnlwgt'          FLOAT  optional          -    \n",
              "'education'       BYTES  optional          -    \n",
              "'education-num'   FLOAT  optional          -    \n",
              "'marital-status'  BYTES  optional          -    \n",
              "'occupation'      BYTES  optional          -    \n",
              "'relationship'    BYTES  optional          -    \n",
              "'race'            BYTES  optional          -    \n",
              "'sex'             BYTES  optional          -    \n",
              "'capital-gain'    FLOAT  optional          -    \n",
              "'capital-loss'    FLOAT  optional          -    \n",
              "'hours-per-week'  FLOAT  optional          -    \n",
              "'native-country'  BYTES  optional          -    \n",
              "'label'           BYTES  optional          -    \n",
              "'workclass'       BYTES  optional          -    "
            ]
          },
          "metadata": {}
        }
      ]
    },
    {
      "cell_type": "markdown",
      "metadata": {
        "id": "J3Lvnr-YgPU2"
      },
      "source": [
        "## Calculate and display evaluation anomalies"
      ]
    },
    {
      "cell_type": "markdown",
      "metadata": {
        "id": "D1D9bNcigPU2"
      },
      "source": [
        "You can use your reference schema to check for anomalies such as new values for a specific feature in the evaluation data. Detected anomalies can either be considered a real error that needs to be cleaned, or depending on your domain knowledge and the specific case, they can be accepted. \n",
        "\n",
        "Let's detect and display evaluation anomalies and see if there are any problems that need to be addressed."
      ]
    },
    {
      "cell_type": "code",
      "metadata": {
        "id": "OR5dBqpW6ky2",
        "outputId": "ae225bc0-b1a6-40c6-b4df-c488571c6a50",
        "colab": {
          "base_uri": "https://localhost:8080/",
          "height": 111
        }
      },
      "source": [
        "# Check evaluation data for errors by validating the evaluation dataset statistics using the reference schema\n",
        "anomalies =  tfdv.validate_statistics(statistics=eval_stats, schema=schema)\n",
        "\n",
        "# Visualize anomalies\n",
        "tfdv.display_anomalies(anomalies)"
      ],
      "execution_count": 44,
      "outputs": [
        {
          "output_type": "stream",
          "text": [
            "/usr/local/lib/python3.7/dist-packages/tensorflow_data_validation/utils/display_util.py:217: FutureWarning: Passing a negative integer is deprecated in version 1.0 and will not be supported in future version. Instead, use None to not limit the column width.\n",
            "  pd.set_option('max_colwidth', -1)\n"
          ],
          "name": "stderr"
        },
        {
          "output_type": "display_data",
          "data": {
            "text/html": [
              "<h4 style=\"color:green;\">No anomalies found.</h4>"
            ],
            "text/plain": [
              "<IPython.core.display.HTML object>"
            ]
          },
          "metadata": {}
        }
      ]
    },
    {
      "cell_type": "markdown",
      "metadata": {
        "id": "HeEvhvgqzLu-"
      },
      "source": [
        "## Revising the Schema\n",
        "\n",
        "As shown in the results above, TFDV is able to detect the remaining irregularities we introduced earlier. The short and long descriptions tell us what were detected. As expected, there are string values for `race`, `native-country` and `occupation` that are not found in the domain of the training set schema (you might see a different result if the shuffling of the datasets was applied). What you decide to do about the anomalies depend on your domain knowledge of the data. If an anomaly indicates a data error, then the underlying data should be fixed. Otherwise, you can update the schema to include the values in the evaluation dataset.\n",
        "\n",
        "TFDV provides a set of utility methods and parameters that you can use for revising the inferred schema. This [reference](https://www.tensorflow.org/tfx/data_validation/anomalies) lists down the type of anomalies and the parameters that you can edit but we'll focus only on a couple here.\n",
        "\n",
        "- You can relax the minimum fraction of values that must come from the domain of a particular feature (as described by `ENUM_TYPE_UNEXPECTED_STRING_VALUES` in the [reference](https://www.tensorflow.org/tfx/data_validation/anomalies)):\n",
        "\n",
        "```python\n",
        "tfdv.get_feature(schema, 'feature_column_name').distribution_constraints.min_domain_mass = <float: 0.0 to 1.0>\n",
        "```\n",
        "\n",
        "- You can add a new value to the domain of a particular feature:\n",
        "\n",
        "```python\n",
        "tfdv.get_feature(schema, 'feature_column_name').value.append('string')\n",
        "```\n",
        "\n",
        "Let's use these in the next section."
      ]
    },
    {
      "cell_type": "markdown",
      "metadata": {
        "id": "HKECg6Lf6-ks"
      },
      "source": [
        "## Fix anomalies in the schema\n",
        "\n",
        "Let's say that we want to accept the string anomalies reported as valid. If you want to tolerate a fraction of missing values from the evaluation dataset, you can do it like this:"
      ]
    },
    {
      "cell_type": "code",
      "metadata": {
        "id": "KsWbPeuSUl4k"
      },
      "source": [
        "# Relax the minimum fraction of values that must come from the domain for the feature `native-country`\n",
        "country_feature = tfdv.get_feature(schema2, 'native-country')\n",
        "country_feature.distribution_constraints.min_domain_mass = 0.9\n",
        "\n",
        "# Relax the minimum fraction of values that must come from the domain for the feature `occupation`\n",
        "occupation_feature = tfdv.get_feature(schema2, 'occupation')\n",
        "occupation_feature.distribution_constraints.min_domain_mass = 0.9"
      ],
      "execution_count": 38,
      "outputs": []
    },
    {
      "cell_type": "markdown",
      "metadata": {
        "id": "y8rOkCnVUl4k"
      },
      "source": [
        "If you want to be rigid and instead add only valid values to the domain, you can do it like this:"
      ]
    },
    {
      "cell_type": "code",
      "metadata": {
        "id": "hTCWS04p6lDh"
      },
      "source": [
        "# Add new value to the domain of the feature `race`\n",
        "#Schema does not have race feature and schema2 does not have race domain\n",
        "race_domain = tfdv.get_domain(schema, 'race')\n",
        "race_domain.value.append('Asian')"
      ],
      "execution_count": null,
      "outputs": []
    },
    {
      "cell_type": "code",
      "metadata": {
        "id": "-MVf519BLSJx"
      },
      "source": [
        "#Let's set the race domain for the schema2\n",
        "race_domain = schema_pb2.StringDomain(value=['European', 'African', 'Amerindian'])\n",
        "tfdv.set_domain(schema2, \"race\", race_domain)\n",
        "#race_domain = tfdv.set_domain(schema2, 'race', schema_pb2.IntDomain(name='age', min=17, max=90))#tfdv.get_domain(schema2, 'race')\n"
      ],
      "execution_count": 50,
      "outputs": []
    },
    {
      "cell_type": "code",
      "metadata": {
        "id": "xCmT8MwmOLfh"
      },
      "source": [
        "race_domain = tfdv.get_domain(schema2, 'race')\n",
        "race_domain.value.append('Asian')"
      ],
      "execution_count": 52,
      "outputs": []
    },
    {
      "cell_type": "markdown",
      "metadata": {
        "id": "D00WoOCCUl4k"
      },
      "source": [
        "In addition, you can also restrict the range of a numerical feature. This will let you know of invalid values without having to inspect it visually (e.g. the invalid `age` values earlier)."
      ]
    },
    {
      "cell_type": "code",
      "metadata": {
        "id": "9VU3St1vUl4k",
        "outputId": "a736c71c-bec6-4180-b6c1-ad3b64791589",
        "colab": {
          "base_uri": "https://localhost:8080/",
          "height": 1000
        }
      },
      "source": [
        "# Restrict the range of the `age` feature\n",
        "tfdv.set_domain(schema2, 'age', schema_pb2.IntDomain(name='age', min=17, max=90))\n",
        "\n",
        "# Display the modified schema. Notice the `Domain` column of `age`.\n",
        "tfdv.display_schema(schema2)"
      ],
      "execution_count": 53,
      "outputs": [
        {
          "output_type": "stream",
          "text": [
            "WARNING:root:Replacing existing domain of feature \"age\".\n"
          ],
          "name": "stderr"
        },
        {
          "output_type": "display_data",
          "data": {
            "text/html": [
              "<div>\n",
              "<style scoped>\n",
              "    .dataframe tbody tr th:only-of-type {\n",
              "        vertical-align: middle;\n",
              "    }\n",
              "\n",
              "    .dataframe tbody tr th {\n",
              "        vertical-align: top;\n",
              "    }\n",
              "\n",
              "    .dataframe thead th {\n",
              "        text-align: right;\n",
              "    }\n",
              "</style>\n",
              "<table border=\"1\" class=\"dataframe\">\n",
              "  <thead>\n",
              "    <tr style=\"text-align: right;\">\n",
              "      <th></th>\n",
              "      <th>Type</th>\n",
              "      <th>Presence</th>\n",
              "      <th>Valency</th>\n",
              "      <th>Domain</th>\n",
              "    </tr>\n",
              "    <tr>\n",
              "      <th>Feature name</th>\n",
              "      <th></th>\n",
              "      <th></th>\n",
              "      <th></th>\n",
              "      <th></th>\n",
              "    </tr>\n",
              "  </thead>\n",
              "  <tbody>\n",
              "    <tr>\n",
              "      <th>'39'</th>\n",
              "      <td>FLOAT</td>\n",
              "      <td>optional</td>\n",
              "      <td></td>\n",
              "      <td>-</td>\n",
              "    </tr>\n",
              "    <tr>\n",
              "      <th>'State-gov'</th>\n",
              "      <td>BYTES</td>\n",
              "      <td>optional</td>\n",
              "      <td></td>\n",
              "      <td>-</td>\n",
              "    </tr>\n",
              "    <tr>\n",
              "      <th>'77516'</th>\n",
              "      <td>FLOAT</td>\n",
              "      <td>optional</td>\n",
              "      <td></td>\n",
              "      <td>-</td>\n",
              "    </tr>\n",
              "    <tr>\n",
              "      <th>'Bachelors'</th>\n",
              "      <td>BYTES</td>\n",
              "      <td>optional</td>\n",
              "      <td></td>\n",
              "      <td>-</td>\n",
              "    </tr>\n",
              "    <tr>\n",
              "      <th>'13'</th>\n",
              "      <td>FLOAT</td>\n",
              "      <td>optional</td>\n",
              "      <td></td>\n",
              "      <td>-</td>\n",
              "    </tr>\n",
              "    <tr>\n",
              "      <th>'Never-married'</th>\n",
              "      <td>BYTES</td>\n",
              "      <td>optional</td>\n",
              "      <td></td>\n",
              "      <td>-</td>\n",
              "    </tr>\n",
              "    <tr>\n",
              "      <th>'Adm-clerical'</th>\n",
              "      <td>BYTES</td>\n",
              "      <td>optional</td>\n",
              "      <td></td>\n",
              "      <td>-</td>\n",
              "    </tr>\n",
              "    <tr>\n",
              "      <th>'Not-in-family'</th>\n",
              "      <td>BYTES</td>\n",
              "      <td>optional</td>\n",
              "      <td></td>\n",
              "      <td>-</td>\n",
              "    </tr>\n",
              "    <tr>\n",
              "      <th>'White'</th>\n",
              "      <td>BYTES</td>\n",
              "      <td>optional</td>\n",
              "      <td></td>\n",
              "      <td>-</td>\n",
              "    </tr>\n",
              "    <tr>\n",
              "      <th>'Male'</th>\n",
              "      <td>BYTES</td>\n",
              "      <td>optional</td>\n",
              "      <td></td>\n",
              "      <td>-</td>\n",
              "    </tr>\n",
              "    <tr>\n",
              "      <th>'2174'</th>\n",
              "      <td>FLOAT</td>\n",
              "      <td>optional</td>\n",
              "      <td></td>\n",
              "      <td>-</td>\n",
              "    </tr>\n",
              "    <tr>\n",
              "      <th>'0'</th>\n",
              "      <td>FLOAT</td>\n",
              "      <td>optional</td>\n",
              "      <td></td>\n",
              "      <td>-</td>\n",
              "    </tr>\n",
              "    <tr>\n",
              "      <th>'40'</th>\n",
              "      <td>FLOAT</td>\n",
              "      <td>optional</td>\n",
              "      <td></td>\n",
              "      <td>-</td>\n",
              "    </tr>\n",
              "    <tr>\n",
              "      <th>'United-States'</th>\n",
              "      <td>BYTES</td>\n",
              "      <td>optional</td>\n",
              "      <td></td>\n",
              "      <td>-</td>\n",
              "    </tr>\n",
              "    <tr>\n",
              "      <th>'&lt;=50K'</th>\n",
              "      <td>BYTES</td>\n",
              "      <td>optional</td>\n",
              "      <td></td>\n",
              "      <td>-</td>\n",
              "    </tr>\n",
              "    <tr>\n",
              "      <th>'age'</th>\n",
              "      <td>FLOAT</td>\n",
              "      <td>optional</td>\n",
              "      <td></td>\n",
              "      <td>min: 17; max: 90</td>\n",
              "    </tr>\n",
              "    <tr>\n",
              "      <th>'fnlwgt'</th>\n",
              "      <td>FLOAT</td>\n",
              "      <td>optional</td>\n",
              "      <td></td>\n",
              "      <td>-</td>\n",
              "    </tr>\n",
              "    <tr>\n",
              "      <th>'education'</th>\n",
              "      <td>BYTES</td>\n",
              "      <td>optional</td>\n",
              "      <td></td>\n",
              "      <td>-</td>\n",
              "    </tr>\n",
              "    <tr>\n",
              "      <th>'education-num'</th>\n",
              "      <td>FLOAT</td>\n",
              "      <td>optional</td>\n",
              "      <td></td>\n",
              "      <td>-</td>\n",
              "    </tr>\n",
              "    <tr>\n",
              "      <th>'marital-status'</th>\n",
              "      <td>BYTES</td>\n",
              "      <td>optional</td>\n",
              "      <td></td>\n",
              "      <td>-</td>\n",
              "    </tr>\n",
              "    <tr>\n",
              "      <th>'occupation'</th>\n",
              "      <td>BYTES</td>\n",
              "      <td>optional</td>\n",
              "      <td></td>\n",
              "      <td>-</td>\n",
              "    </tr>\n",
              "    <tr>\n",
              "      <th>'relationship'</th>\n",
              "      <td>BYTES</td>\n",
              "      <td>optional</td>\n",
              "      <td></td>\n",
              "      <td>-</td>\n",
              "    </tr>\n",
              "    <tr>\n",
              "      <th>'race'</th>\n",
              "      <td>STRING</td>\n",
              "      <td>optional</td>\n",
              "      <td></td>\n",
              "      <td>'race_domain'</td>\n",
              "    </tr>\n",
              "    <tr>\n",
              "      <th>'sex'</th>\n",
              "      <td>BYTES</td>\n",
              "      <td>optional</td>\n",
              "      <td></td>\n",
              "      <td>-</td>\n",
              "    </tr>\n",
              "    <tr>\n",
              "      <th>'capital-gain'</th>\n",
              "      <td>FLOAT</td>\n",
              "      <td>optional</td>\n",
              "      <td></td>\n",
              "      <td>-</td>\n",
              "    </tr>\n",
              "    <tr>\n",
              "      <th>'capital-loss'</th>\n",
              "      <td>FLOAT</td>\n",
              "      <td>optional</td>\n",
              "      <td></td>\n",
              "      <td>-</td>\n",
              "    </tr>\n",
              "    <tr>\n",
              "      <th>'hours-per-week'</th>\n",
              "      <td>FLOAT</td>\n",
              "      <td>optional</td>\n",
              "      <td></td>\n",
              "      <td>-</td>\n",
              "    </tr>\n",
              "    <tr>\n",
              "      <th>'native-country'</th>\n",
              "      <td>BYTES</td>\n",
              "      <td>optional</td>\n",
              "      <td></td>\n",
              "      <td>-</td>\n",
              "    </tr>\n",
              "    <tr>\n",
              "      <th>'label'</th>\n",
              "      <td>BYTES</td>\n",
              "      <td>optional</td>\n",
              "      <td></td>\n",
              "      <td>-</td>\n",
              "    </tr>\n",
              "    <tr>\n",
              "      <th>'workclass'</th>\n",
              "      <td>BYTES</td>\n",
              "      <td>optional</td>\n",
              "      <td></td>\n",
              "      <td>-</td>\n",
              "    </tr>\n",
              "  </tbody>\n",
              "</table>\n",
              "</div>"
            ],
            "text/plain": [
              "                    Type  Presence Valency            Domain\n",
              "Feature name                                                \n",
              "'39'              FLOAT   optional          -               \n",
              "'State-gov'       BYTES   optional          -               \n",
              "'77516'           FLOAT   optional          -               \n",
              "'Bachelors'       BYTES   optional          -               \n",
              "'13'              FLOAT   optional          -               \n",
              "'Never-married'   BYTES   optional          -               \n",
              "'Adm-clerical'    BYTES   optional          -               \n",
              "'Not-in-family'   BYTES   optional          -               \n",
              "'White'           BYTES   optional          -               \n",
              "'Male'            BYTES   optional          -               \n",
              "'2174'            FLOAT   optional          -               \n",
              "'0'               FLOAT   optional          -               \n",
              "'40'              FLOAT   optional          -               \n",
              "'United-States'   BYTES   optional          -               \n",
              "'<=50K'           BYTES   optional          -               \n",
              "'age'             FLOAT   optional          min: 17; max: 90\n",
              "'fnlwgt'          FLOAT   optional          -               \n",
              "'education'       BYTES   optional          -               \n",
              "'education-num'   FLOAT   optional          -               \n",
              "'marital-status'  BYTES   optional          -               \n",
              "'occupation'      BYTES   optional          -               \n",
              "'relationship'    BYTES   optional          -               \n",
              "'race'            STRING  optional          'race_domain'   \n",
              "'sex'             BYTES   optional          -               \n",
              "'capital-gain'    FLOAT   optional          -               \n",
              "'capital-loss'    FLOAT   optional          -               \n",
              "'hours-per-week'  FLOAT   optional          -               \n",
              "'native-country'  BYTES   optional          -               \n",
              "'label'           BYTES   optional          -               \n",
              "'workclass'       BYTES   optional          -               "
            ]
          },
          "metadata": {}
        },
        {
          "output_type": "stream",
          "text": [
            "/usr/local/lib/python3.7/dist-packages/tensorflow_data_validation/utils/display_util.py:180: FutureWarning: Passing a negative integer is deprecated in version 1.0 and will not be supported in future version. Instead, use None to not limit the column width.\n",
            "  pd.set_option('max_colwidth', -1)\n"
          ],
          "name": "stderr"
        },
        {
          "output_type": "display_data",
          "data": {
            "text/html": [
              "<div>\n",
              "<style scoped>\n",
              "    .dataframe tbody tr th:only-of-type {\n",
              "        vertical-align: middle;\n",
              "    }\n",
              "\n",
              "    .dataframe tbody tr th {\n",
              "        vertical-align: top;\n",
              "    }\n",
              "\n",
              "    .dataframe thead th {\n",
              "        text-align: right;\n",
              "    }\n",
              "</style>\n",
              "<table border=\"1\" class=\"dataframe\">\n",
              "  <thead>\n",
              "    <tr style=\"text-align: right;\">\n",
              "      <th></th>\n",
              "      <th>Values</th>\n",
              "    </tr>\n",
              "    <tr>\n",
              "      <th>Domain</th>\n",
              "      <th></th>\n",
              "    </tr>\n",
              "  </thead>\n",
              "  <tbody>\n",
              "    <tr>\n",
              "      <th>'race_domain'</th>\n",
              "      <td>'European', 'African', 'Amerindian', 'Asian'</td>\n",
              "    </tr>\n",
              "  </tbody>\n",
              "</table>\n",
              "</div>"
            ],
            "text/plain": [
              "                                                     Values\n",
              "Domain                                                     \n",
              "'race_domain'  'European', 'African', 'Amerindian', 'Asian'"
            ]
          },
          "metadata": {}
        }
      ]
    },
    {
      "cell_type": "markdown",
      "metadata": {
        "id": "0i5ImVqhUl4k"
      },
      "source": [
        "With these revisions, running the validation should now show no anomalies."
      ]
    },
    {
      "cell_type": "code",
      "metadata": {
        "id": "BQ6RaA94Ul4k",
        "outputId": "b969e1ec-4ae4-4207-8071-4f463b9f9683",
        "colab": {
          "base_uri": "https://localhost:8080/",
          "height": 111
        }
      },
      "source": [
        "# Validate eval stats after updating the schema \n",
        "#Looks like tfdv.validate_statistics does not see multiple new features in eval_stats that are absent in schema\n",
        "updated_anomalies = tfdv.validate_statistics(eval_stats, schema)\n",
        "tfdv.display_anomalies(updated_anomalies)"
      ],
      "execution_count": 54,
      "outputs": [
        {
          "output_type": "stream",
          "text": [
            "/usr/local/lib/python3.7/dist-packages/tensorflow_data_validation/utils/display_util.py:217: FutureWarning: Passing a negative integer is deprecated in version 1.0 and will not be supported in future version. Instead, use None to not limit the column width.\n",
            "  pd.set_option('max_colwidth', -1)\n"
          ],
          "name": "stderr"
        },
        {
          "output_type": "display_data",
          "data": {
            "text/html": [
              "<h4 style=\"color:green;\">No anomalies found.</h4>"
            ],
            "text/plain": [
              "<IPython.core.display.HTML object>"
            ]
          },
          "metadata": {}
        }
      ]
    },
    {
      "cell_type": "markdown",
      "metadata": {
        "id": "y4McgbUqUl4l"
      },
      "source": [
        "## Examining dataset slices\n",
        "\n",
        "TFDV also allows you to analyze specific slices of your dataset. This is particularly useful if you want to inspect if a feature type is well-represented in your dataset. Let's walk through an example where we want to compare the statistics for male and female participants."
      ]
    },
    {
      "cell_type": "markdown",
      "metadata": {
        "id": "gqowwtl-Ul4l"
      },
      "source": [
        "First, you will use the [`get_feature_value_slicer`](https://github.com/tensorflow/data-validation/blob/master/tensorflow_data_validation/utils/slicing_util.py#L48) method from the `slicing_util` to get the features you want to examine. You can specify that by passing a dictionary to the `features` argument. If you want to get the entire domain of a feature, then you can map the feature name with `None` as shown below. This means that you will get slices for both `Male` and `Female` entries. This returns a function that can be used to extract the said feature slice."
      ]
    },
    {
      "cell_type": "code",
      "metadata": {
        "id": "SnOXITtdUl4l"
      },
      "source": [
        "from tensorflow_data_validation.utils import slicing_util\n",
        "\n",
        "slice_fn = slicing_util.get_feature_value_slicer(features={'sex': None})"
      ],
      "execution_count": 55,
      "outputs": []
    },
    {
      "cell_type": "code",
      "metadata": {
        "id": "MaEHIo2bT6zT"
      },
      "source": [
        "slice_fn_age = slicing_util.get_feature_value_slicer(features={'age': None})"
      ],
      "execution_count": 60,
      "outputs": []
    },
    {
      "cell_type": "markdown",
      "metadata": {
        "id": "6F3iwdPfUl4l"
      },
      "source": [
        "With the slice function ready, you can now generate the statistics. You need to tell TFDV that you need statistics for the features you set and you can do that through the `slice_functions` argument of [`tfdv.StatsOptions`](https://www.tensorflow.org/tfx/data_validation/api_docs/python/tfdv/StatsOptions). Let's prepare that in the cell below. Notice that you also need to pass in the schema."
      ]
    },
    {
      "cell_type": "code",
      "metadata": {
        "id": "EjA2hLkYUl4l"
      },
      "source": [
        "# Declare stats options\n",
        "slice_stats_options = tfdv.StatsOptions(schema=schema,\n",
        "                                        slice_functions=[slice_fn],\n",
        "                                        infer_type_from_schema=True)\n",
        "slice_stats_options_age = tfdv.StatsOptions(schema=schema,\n",
        "                                        slice_functions=[slice_fn_age],\n",
        "                                        infer_type_from_schema=True)"
      ],
      "execution_count": 61,
      "outputs": []
    },
    {
      "cell_type": "markdown",
      "metadata": {
        "id": "lfPT9mfJUl4l"
      },
      "source": [
        "You will then pass these options to the `generate_statistics_from_csv()` method. As of writing, generating sliced statistics only works for CSVs so you will need to convert the Pandas dataframe to a CSV. Passing the `slice_stats_options` to `generate_statistics_from_dataframe()` will not produce the expected results."
      ]
    },
    {
      "cell_type": "code",
      "metadata": {
        "id": "rtygPQrmUl4l",
        "outputId": "a64b884b-628c-4fe4-c49d-930d1be93f4e",
        "colab": {
          "base_uri": "https://localhost:8080/"
        }
      },
      "source": [
        "# Convert dataframe to CSV since `slice_functions` works only with `tfdv.generate_statistics_from_csv`\n",
        "CSV_PATH = 'slice_sample.csv'\n",
        "train_df.to_csv(CSV_PATH)\n",
        "\n",
        "# Calculate statistics for the sliced dataset\n",
        "sliced_stats = tfdv.generate_statistics_from_csv(CSV_PATH, stats_options=slice_stats_options)\n",
        "sliced_stats_age = tfdv.generate_statistics_from_csv(CSV_PATH, stats_options=slice_stats_options_age)"
      ],
      "execution_count": 62,
      "outputs": [
        {
          "output_type": "stream",
          "text": [
            "WARNING:root:Make sure that locally built Python SDK docker image has Python 3.7 interpreter.\n",
            "WARNING:root:Make sure that locally built Python SDK docker image has Python 3.7 interpreter.\n"
          ],
          "name": "stderr"
        }
      ]
    },
    {
      "cell_type": "markdown",
      "metadata": {
        "id": "-7ogqb64Ul4l"
      },
      "source": [
        "With that, you now have the statistics for the set slice. These are packed into a `DatasetFeatureStatisticsList` protocol buffer. You can see the dataset names below. The first element in the list (i.e. index=0) is named `All_Examples` which just contains the statistics for the entire dataset. The next two elements (i.e. named `sex_Male` and `sex_Female`) are the datasets that contain the stats for the slices. It is important to note that these datasets are of the type: `DatasetFeatureStatistics`. You will see why this is important after the cell below."
      ]
    },
    {
      "cell_type": "code",
      "metadata": {
        "id": "z6sonKA7Ul4l",
        "outputId": "87bfc9ee-f06d-42d2-ceab-ff3f6fc3b701",
        "colab": {
          "base_uri": "https://localhost:8080/"
        }
      },
      "source": [
        "print(f'Datasets generated: {[sliced.name for sliced in sliced_stats.datasets]}')\n",
        "\n",
        "print(f'Type of sliced_stats elements: {type(sliced_stats.datasets[0])}')"
      ],
      "execution_count": 58,
      "outputs": [
        {
          "output_type": "stream",
          "text": [
            "Datasets generated: ['All Examples', 'sex_<=50K', 'sex_>50K']\n",
            "Type of sliced_stats elements: <class 'tensorflow_metadata.proto.v0.statistics_pb2.DatasetFeatureStatistics'>\n"
          ],
          "name": "stdout"
        }
      ]
    },
    {
      "cell_type": "markdown",
      "metadata": {
        "id": "cAbkgAN3Ul4l"
      },
      "source": [
        "You can then visualize the statistics as before to examine the slices. An important caveat is `visualize_statistics()` accepts a `DatasetFeatureStatisticsList` type instead of `DatasetFeatureStatistics`. Thus, at least for this version of TFDV, you will need to convert it to the correct type."
      ]
    },
    {
      "cell_type": "code",
      "metadata": {
        "id": "ySurfyd0Ul4m",
        "outputId": "a664cae7-9ed2-4bbc-a810-bc2824e60a7e",
        "colab": {
          "base_uri": "https://localhost:8080/",
          "height": 1000
        }
      },
      "source": [
        "from tensorflow_metadata.proto.v0.statistics_pb2 import DatasetFeatureStatisticsList\n",
        "\n",
        "# Convert `Male` statistics (index=1) to the correct type and get the dataset name\n",
        "male_stats_list = DatasetFeatureStatisticsList()\n",
        "male_stats_list.datasets.extend([sliced_stats.datasets[1]])\n",
        "male_stats_name = sliced_stats.datasets[1].name\n",
        "\n",
        "# Convert `Female` statistics (index=2) to the correct type and get the dataset name\n",
        "female_stats_list = DatasetFeatureStatisticsList()\n",
        "female_stats_list.datasets.extend([sliced_stats.datasets[2]])\n",
        "female_stats_name = sliced_stats.datasets[2].name\n",
        "\n",
        "# Visualize the two slices side by side\n",
        "tfdv.visualize_statistics(\n",
        "    lhs_statistics=male_stats_list,\n",
        "    rhs_statistics=female_stats_list,\n",
        "    lhs_name=male_stats_name,\n",
        "    rhs_name=female_stats_name\n",
        ")"
      ],
      "execution_count": 59,
      "outputs": [
        {
          "output_type": "display_data",
          "data": {
            "text/html": [
              "<iframe id='facets-iframe' width=\"100%\" height=\"500px\"></iframe>\n",
              "        <script>\n",
              "        facets_iframe = document.getElementById('facets-iframe');\n",
              "        facets_html = '<script src=\"https://cdnjs.cloudflare.com/ajax/libs/webcomponentsjs/1.3.3/webcomponents-lite.js\"><\\/script><link rel=\"import\" href=\"https://raw.githubusercontent.com/PAIR-code/facets/master/facets-dist/facets-jupyter.html\"><facets-overview proto-input=\"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\"></facets-overview>';\n",
              "        facets_iframe.srcdoc = facets_html;\n",
              "         facets_iframe.id = \"\";\n",
              "         setTimeout(() => {\n",
              "           facets_iframe.setAttribute('height', facets_iframe.contentWindow.document.body.offsetHeight + 'px')\n",
              "         }, 1500)\n",
              "         </script>"
            ],
            "text/plain": [
              "<IPython.core.display.HTML object>"
            ]
          },
          "metadata": {}
        }
      ]
    },
    {
      "cell_type": "markdown",
      "metadata": {
        "id": "B1hoPCQoUl4m"
      },
      "source": [
        "You should now see the visualization of the two slices and you can compare how they are represented in the dataset. \n",
        "\n",
        "We encourage you to go back to the beginning of this section and try different slices. Here are other ways you can explore:\n",
        "\n",
        "* If you want to be more specific, then you can map the specific value to the feature name. For example, if you want just `Male`, then you can declare it as `features={'sex': [b'Male']}`. Notice that the string literal needs to be passed in as bytes with the `b'` prefix.\n",
        "\n",
        "* You can also pass in several features if you want. For example, if you want to slice through both the `sex` and `race` features, then you can do `features={'sex': None, 'race': None}`.\n",
        "\n",
        "You might find it cumbersome or inefficient to redo the whole process for a particular slice. For that, you can make helper functions to streamline the type conversions and you will see one implementation in this week's assignment."
      ]
    },
    {
      "cell_type": "markdown",
      "metadata": {
        "id": "YY812jDDgPU3"
      },
      "source": [
        "## Wrap up\n",
        "\n",
        "This exercise demonstrated how you would use Tensorflow Data Validation in a machine learning project.\n",
        "\n",
        "* It allows you to scale the computation of statistics over datasets.\n",
        "\n",
        "* You can infer the schema of a given dataset and revise it based on your domain knowledge. \n",
        "\n",
        "* You can inspect discrepancies between the training and evaluation datasets by visualizing the statistics and detecting anomalies.\n",
        "\n",
        "* You can analyze specific slices of your dataset.\n",
        "\n",
        "You can consult this notebook in this week's programming assignment as well as these additional resources:\n",
        "\n",
        "* [TFDV Guide](https://www.tensorflow.org/tfx/data_validation/get_started) \n",
        "* [TFDV blog post](https://blog.tensorflow.org/2018/09/introducing-tensorflow-data-validation.html)\n",
        "* [Tensorflow Official Tutorial](https://colab.research.google.com/github/tensorflow/tfx/blob/master/docs/tutorials/data_validation/tfdv_basic.ipynb#scrollTo=mPt5BHTwy_0F)\n",
        "* [API Docs](https://www.tensorflow.org/tfx/data_validation/api_docs/python/tfdv)"
      ]
    }
  ]
}